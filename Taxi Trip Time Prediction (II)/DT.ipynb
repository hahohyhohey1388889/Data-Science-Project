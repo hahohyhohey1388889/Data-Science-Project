{
 "cells": [
  {
   "cell_type": "code",
   "execution_count": 9,
   "metadata": {},
   "outputs": [],
   "source": [
    "import pandas as pd\n",
    "import numpy as np\n",
    "import matplotlib.pyplot as plt\n",
    "import seaborn as sns"
   ]
  },
  {
   "cell_type": "code",
   "execution_count": 2,
   "metadata": {},
   "outputs": [],
   "source": [
    "train = pd.read_csv('train.txt')\n",
    "test = pd.read_csv('test.txt')"
   ]
  },
  {
   "cell_type": "code",
   "execution_count": 3,
   "metadata": {},
   "outputs": [],
   "source": [
    "train = train.drop(['Unnamed: 0'], axis = 1)\n",
    "test = test.drop(['Unnamed: 0'], axis = 1)"
   ]
  },
  {
   "cell_type": "code",
   "execution_count": 4,
   "metadata": {},
   "outputs": [
    {
     "data": {
      "text/html": [
       "<div>\n",
       "<style scoped>\n",
       "    .dataframe tbody tr th:only-of-type {\n",
       "        vertical-align: middle;\n",
       "    }\n",
       "\n",
       "    .dataframe tbody tr th {\n",
       "        vertical-align: top;\n",
       "    }\n",
       "\n",
       "    .dataframe thead th {\n",
       "        text-align: right;\n",
       "    }\n",
       "</style>\n",
       "<table border=\"1\" class=\"dataframe\">\n",
       "  <thead>\n",
       "    <tr style=\"text-align: right;\">\n",
       "      <th></th>\n",
       "      <th>TIMESTAMP</th>\n",
       "      <th>date_Y</th>\n",
       "      <th>date_M</th>\n",
       "      <th>date_D</th>\n",
       "      <th>date_H</th>\n",
       "      <th>CALL_TYPE</th>\n",
       "      <th>ORIGIN_CALL</th>\n",
       "      <th>ORIGIN_STAND</th>\n",
       "      <th>TAXI_ID</th>\n",
       "      <th>duration</th>\n",
       "      <th>haversine</th>\n",
       "      <th>speed</th>\n",
       "    </tr>\n",
       "  </thead>\n",
       "  <tbody>\n",
       "    <tr>\n",
       "      <th>0</th>\n",
       "      <td>1.372645e+09</td>\n",
       "      <td>2013</td>\n",
       "      <td>7</td>\n",
       "      <td>1</td>\n",
       "      <td>10</td>\n",
       "      <td>C</td>\n",
       "      <td>0.0</td>\n",
       "      <td>0.0</td>\n",
       "      <td>20000542</td>\n",
       "      <td>285</td>\n",
       "      <td>2699.525658</td>\n",
       "      <td>9.472020</td>\n",
       "    </tr>\n",
       "    <tr>\n",
       "      <th>1</th>\n",
       "      <td>1.372663e+09</td>\n",
       "      <td>2013</td>\n",
       "      <td>7</td>\n",
       "      <td>1</td>\n",
       "      <td>15</td>\n",
       "      <td>B</td>\n",
       "      <td>0.0</td>\n",
       "      <td>15.0</td>\n",
       "      <td>20000542</td>\n",
       "      <td>990</td>\n",
       "      <td>3714.635135</td>\n",
       "      <td>3.752157</td>\n",
       "    </tr>\n",
       "    <tr>\n",
       "      <th>2</th>\n",
       "      <td>1.372666e+09</td>\n",
       "      <td>2013</td>\n",
       "      <td>7</td>\n",
       "      <td>1</td>\n",
       "      <td>15</td>\n",
       "      <td>B</td>\n",
       "      <td>0.0</td>\n",
       "      <td>15.0</td>\n",
       "      <td>20000542</td>\n",
       "      <td>1110</td>\n",
       "      <td>6961.118842</td>\n",
       "      <td>6.271278</td>\n",
       "    </tr>\n",
       "    <tr>\n",
       "      <th>3</th>\n",
       "      <td>1.372670e+09</td>\n",
       "      <td>2013</td>\n",
       "      <td>7</td>\n",
       "      <td>1</td>\n",
       "      <td>17</td>\n",
       "      <td>B</td>\n",
       "      <td>0.0</td>\n",
       "      <td>15.0</td>\n",
       "      <td>20000542</td>\n",
       "      <td>840</td>\n",
       "      <td>5106.289381</td>\n",
       "      <td>6.078916</td>\n",
       "    </tr>\n",
       "    <tr>\n",
       "      <th>4</th>\n",
       "      <td>1.372671e+09</td>\n",
       "      <td>2013</td>\n",
       "      <td>7</td>\n",
       "      <td>1</td>\n",
       "      <td>17</td>\n",
       "      <td>A</td>\n",
       "      <td>43436.0</td>\n",
       "      <td>0.0</td>\n",
       "      <td>20000542</td>\n",
       "      <td>315</td>\n",
       "      <td>1116.428898</td>\n",
       "      <td>3.544219</td>\n",
       "    </tr>\n",
       "  </tbody>\n",
       "</table>\n",
       "</div>"
      ],
      "text/plain": [
       "      TIMESTAMP  date_Y  date_M  date_D  date_H CALL_TYPE  ORIGIN_CALL  \\\n",
       "0  1.372645e+09    2013       7       1      10         C          0.0   \n",
       "1  1.372663e+09    2013       7       1      15         B          0.0   \n",
       "2  1.372666e+09    2013       7       1      15         B          0.0   \n",
       "3  1.372670e+09    2013       7       1      17         B          0.0   \n",
       "4  1.372671e+09    2013       7       1      17         A      43436.0   \n",
       "\n",
       "   ORIGIN_STAND   TAXI_ID  duration    haversine     speed  \n",
       "0           0.0  20000542       285  2699.525658  9.472020  \n",
       "1          15.0  20000542       990  3714.635135  3.752157  \n",
       "2          15.0  20000542      1110  6961.118842  6.271278  \n",
       "3          15.0  20000542       840  5106.289381  6.078916  \n",
       "4           0.0  20000542       315  1116.428898  3.544219  "
      ]
     },
     "execution_count": 4,
     "metadata": {},
     "output_type": "execute_result"
    }
   ],
   "source": [
    "train.head()"
   ]
  },
  {
   "cell_type": "code",
   "execution_count": 5,
   "metadata": {},
   "outputs": [
    {
     "data": {
      "text/html": [
       "<div>\n",
       "<style scoped>\n",
       "    .dataframe tbody tr th:only-of-type {\n",
       "        vertical-align: middle;\n",
       "    }\n",
       "\n",
       "    .dataframe tbody tr th {\n",
       "        vertical-align: top;\n",
       "    }\n",
       "\n",
       "    .dataframe thead th {\n",
       "        text-align: right;\n",
       "    }\n",
       "</style>\n",
       "<table border=\"1\" class=\"dataframe\">\n",
       "  <thead>\n",
       "    <tr style=\"text-align: right;\">\n",
       "      <th></th>\n",
       "      <th>TIMESTAMP</th>\n",
       "      <th>date_Y</th>\n",
       "      <th>date_M</th>\n",
       "      <th>date_D</th>\n",
       "      <th>date_H</th>\n",
       "      <th>CALL_TYPE</th>\n",
       "      <th>ORIGIN_CALL</th>\n",
       "      <th>ORIGIN_STAND</th>\n",
       "      <th>TAXI_ID</th>\n",
       "      <th>duration</th>\n",
       "      <th>haversine</th>\n",
       "      <th>speed</th>\n",
       "    </tr>\n",
       "  </thead>\n",
       "  <tbody>\n",
       "    <tr>\n",
       "      <th>0</th>\n",
       "      <td>1408039037</td>\n",
       "      <td>2014</td>\n",
       "      <td>8</td>\n",
       "      <td>15</td>\n",
       "      <td>1</td>\n",
       "      <td>B</td>\n",
       "      <td>0.0</td>\n",
       "      <td>15.0</td>\n",
       "      <td>20000542</td>\n",
       "      <td>150</td>\n",
       "      <td>221.327676</td>\n",
       "      <td>1.475518</td>\n",
       "    </tr>\n",
       "    <tr>\n",
       "      <th>1</th>\n",
       "      <td>1408038611</td>\n",
       "      <td>2014</td>\n",
       "      <td>8</td>\n",
       "      <td>15</td>\n",
       "      <td>1</td>\n",
       "      <td>B</td>\n",
       "      <td>0.0</td>\n",
       "      <td>57.0</td>\n",
       "      <td>20000108</td>\n",
       "      <td>585</td>\n",
       "      <td>2140.926138</td>\n",
       "      <td>3.659703</td>\n",
       "    </tr>\n",
       "    <tr>\n",
       "      <th>2</th>\n",
       "      <td>1408038568</td>\n",
       "      <td>2014</td>\n",
       "      <td>8</td>\n",
       "      <td>15</td>\n",
       "      <td>1</td>\n",
       "      <td>B</td>\n",
       "      <td>0.0</td>\n",
       "      <td>15.0</td>\n",
       "      <td>20000370</td>\n",
       "      <td>585</td>\n",
       "      <td>2315.694331</td>\n",
       "      <td>3.958452</td>\n",
       "    </tr>\n",
       "    <tr>\n",
       "      <th>3</th>\n",
       "      <td>1408039090</td>\n",
       "      <td>2014</td>\n",
       "      <td>8</td>\n",
       "      <td>15</td>\n",
       "      <td>1</td>\n",
       "      <td>B</td>\n",
       "      <td>0.0</td>\n",
       "      <td>53.0</td>\n",
       "      <td>20000492</td>\n",
       "      <td>105</td>\n",
       "      <td>60.304932</td>\n",
       "      <td>0.574333</td>\n",
       "    </tr>\n",
       "    <tr>\n",
       "      <th>4</th>\n",
       "      <td>1408039177</td>\n",
       "      <td>2014</td>\n",
       "      <td>8</td>\n",
       "      <td>15</td>\n",
       "      <td>1</td>\n",
       "      <td>B</td>\n",
       "      <td>0.0</td>\n",
       "      <td>18.0</td>\n",
       "      <td>20000621</td>\n",
       "      <td>15</td>\n",
       "      <td>0.753580</td>\n",
       "      <td>0.050239</td>\n",
       "    </tr>\n",
       "  </tbody>\n",
       "</table>\n",
       "</div>"
      ],
      "text/plain": [
       "    TIMESTAMP  date_Y  date_M  date_D  date_H CALL_TYPE  ORIGIN_CALL  \\\n",
       "0  1408039037    2014       8      15       1         B          0.0   \n",
       "1  1408038611    2014       8      15       1         B          0.0   \n",
       "2  1408038568    2014       8      15       1         B          0.0   \n",
       "3  1408039090    2014       8      15       1         B          0.0   \n",
       "4  1408039177    2014       8      15       1         B          0.0   \n",
       "\n",
       "   ORIGIN_STAND   TAXI_ID  duration    haversine     speed  \n",
       "0          15.0  20000542       150   221.327676  1.475518  \n",
       "1          57.0  20000108       585  2140.926138  3.659703  \n",
       "2          15.0  20000370       585  2315.694331  3.958452  \n",
       "3          53.0  20000492       105    60.304932  0.574333  \n",
       "4          18.0  20000621        15     0.753580  0.050239  "
      ]
     },
     "execution_count": 5,
     "metadata": {},
     "output_type": "execute_result"
    }
   ],
   "source": [
    "test.head()"
   ]
  },
  {
   "cell_type": "markdown",
   "metadata": {},
   "source": [
    "# EDA"
   ]
  },
  {
   "cell_type": "code",
   "execution_count": 14,
   "metadata": {},
   "outputs": [
    {
     "data": {
      "text/plain": [
       "(500058, 12)"
      ]
     },
     "execution_count": 14,
     "metadata": {},
     "output_type": "execute_result"
    }
   ],
   "source": [
    "train[train['date_Y'] ==2013].shape"
   ]
  },
  {
   "cell_type": "code",
   "execution_count": 27,
   "metadata": {},
   "outputs": [
    {
     "data": {
      "text/plain": [
       "<matplotlib.axes._subplots.AxesSubplot at 0x1bf1ac834e0>"
      ]
     },
     "execution_count": 27,
     "metadata": {},
     "output_type": "execute_result"
    },
    {
     "data": {
      "image/png": "[encoded data removed]",
      "text/plain": [
       "<matplotlib.figure.Figure at 0x1bf1ab48b70>"
      ]
     },
     "metadata": {},
     "output_type": "display_data"
    }
   ],
   "source": [
    "sns.countplot(x=\"date_H\", data=train, palette=\"Greens_d\")"
   ]
  },
  {
   "cell_type": "code",
   "execution_count": null,
   "metadata": {},
   "outputs": [],
   "source": []
  },
  {
   "cell_type": "code",
   "execution_count": null,
   "metadata": {},
   "outputs": [],
   "source": []
  },
  {
   "cell_type": "code",
   "execution_count": null,
   "metadata": {},
   "outputs": [],
   "source": []
  },
  {
   "cell_type": "markdown",
   "metadata": {},
   "source": [
    "# EDA"
   ]
  },
  {
   "cell_type": "code",
   "execution_count": 6,
   "metadata": {},
   "outputs": [
    {
     "data": {
      "text/plain": [
       "[2014]"
      ]
     },
     "execution_count": 6,
     "metadata": {},
     "output_type": "execute_result"
    }
   ],
   "source": [
    "test.date_Y.unique().tolist()"
   ]
  },
  {
   "cell_type": "code",
   "execution_count": 7,
   "metadata": {},
   "outputs": [
    {
     "name": "stdout",
     "output_type": "stream",
     "text": [
      "value: [2014] unique: 1\n",
      "value: [8, 9, 10, 11, 12] unique: 5\n",
      "value: [15, 30, 7, 6, 1, 21] unique: 6\n",
      "value: [1, 0, 16, 15, 14, 23, 11, 10, 22, 20, 19, 21] unique: 12\n"
     ]
    }
   ],
   "source": [
    "print('value:', test.date_Y.unique().tolist(), 'unique:', len(test.date_Y.unique().tolist()))\n",
    "print('value:', test.date_M.unique().tolist(), 'unique:', len(test.date_M.unique().tolist()))\n",
    "print('value:', test.date_D.unique().tolist(), 'unique:', len(test.date_D.unique().tolist()))\n",
    "print('value:', test.date_H.unique().tolist(), 'unique:', len(test.date_H.unique().tolist()))         "
   ]
  },
  {
   "cell_type": "code",
   "execution_count": 8,
   "metadata": {},
   "outputs": [
    {
     "name": "stdout",
     "output_type": "stream",
     "text": [
      "value: [2013, 2014] unique: 2\n",
      "value: [7, 8, 9, 10, 11, 12, 1, 2, 3, 4, 5, 6] unique: 12\n",
      "value: [1, 2, 3, 4, 5, 6, 7, 8, 9, 10, 11, 12, 13, 14, 15, 16, 17, 18, 19, 20, 21, 22, 23, 24, 25, 26, 27, 28, 29, 30, 31] unique: 31\n",
      "value: [10, 15, 17, 18, 20, 21, 22, 23, 1, 2, 3, 4, 5, 6, 8, 9, 11, 16, 19, 0, 14, 7, 12, 13] unique: 24\n"
     ]
    }
   ],
   "source": [
    "print('value:', train.date_Y.unique().tolist(), 'unique:', len(train.date_Y.unique().tolist()))\n",
    "print('value:', train.date_M.unique().tolist(), 'unique:', len(train.date_M.unique().tolist()))\n",
    "print('value:', train.date_D.unique().tolist(), 'unique:', len(train.date_D.unique().tolist()))\n",
    "print('value:', train.date_H.unique().tolist(), 'unique:', len(train.date_H.unique().tolist())) "
   ]
  },
  {
   "cell_type": "code",
   "execution_count": 9,
   "metadata": {},
   "outputs": [
    {
     "name": "stdout",
     "output_type": "stream",
     "text": [
      "(1000788, 12) (320, 12)\n"
     ]
    }
   ],
   "source": [
    "print(train.shape, test.shape)"
   ]
  },
  {
   "cell_type": "markdown",
   "metadata": {},
   "source": [
    "# on hot encoding"
   ]
  },
  {
   "cell_type": "code",
   "execution_count": 10,
   "metadata": {},
   "outputs": [],
   "source": [
    "duration_train = train[['duration']]\n",
    "haversine_train = train[['haversine']]\n",
    "speed_train = train[['speed']]\n",
    "duration_test = test[['duration']]\n",
    "haversine_test = test[['haversine']]\n",
    "speed_test = test[['speed']]"
   ]
  },
  {
   "cell_type": "code",
   "execution_count": 11,
   "metadata": {},
   "outputs": [
    {
     "name": "stdout",
     "output_type": "stream",
     "text": [
      "CTrain: (1000788, 3) \n",
      " CTest: (320, 3)\n"
     ]
    }
   ],
   "source": [
    "CTrain = pd.get_dummies( train.CALL_TYPE , prefix='CALL_TYPE' )\n",
    "CTest = pd.get_dummies( test.CALL_TYPE , prefix='CALL_TYPE' )\n",
    "print('CTrain:', CTrain.shape, '\\n', 'CTest:', CTest.shape)"
   ]
  },
  {
   "cell_type": "code",
   "execution_count": 12,
   "metadata": {},
   "outputs": [
    {
     "name": "stdout",
     "output_type": "stream",
     "text": [
      "TItrain: (1000788, 244) \n",
      " TItest: (320, 244)\n"
     ]
    }
   ],
   "source": [
    "TItrain = pd.get_dummies( train.TAXI_ID , prefix='TI' )\n",
    "TItest = pd.get_dummies( test.TAXI_ID , prefix='TI' )\n",
    "print('TItrain:', TItrain.shape, '\\n', 'TItest:', TItest.shape)"
   ]
  },
  {
   "cell_type": "code",
   "execution_count": 13,
   "metadata": {},
   "outputs": [
    {
     "name": "stdout",
     "output_type": "stream",
     "text": [
      "Ytrain: (1000788, 2) \n",
      " Ytest: (320, 2)\n"
     ]
    }
   ],
   "source": [
    "Ytrain = pd.get_dummies( train.date_Y , prefix='Y' )\n",
    "Ytest = pd.get_dummies( test.date_Y , prefix='Y' )\n",
    "Ytest['Y_2013'] =np.zeros(320)\n",
    "Ytest = Ytest[['Y_2013', 'Y_2014']]\n",
    "print('Ytrain:', Ytrain.shape, '\\n', 'Ytest:', Ytest.shape)"
   ]
  },
  {
   "cell_type": "code",
   "execution_count": 14,
   "metadata": {},
   "outputs": [
    {
     "name": "stdout",
     "output_type": "stream",
     "text": [
      "Mtrain: (1000788, 12) \n",
      " Mtest: (320, 12)\n"
     ]
    }
   ],
   "source": [
    "Mtrain = pd.get_dummies( train.date_M , prefix='M' )\n",
    "Mtest = pd.get_dummies( test.date_M , prefix='M' )\n",
    "Mtest['M_1'] =np.zeros(320)\n",
    "Mtest['M_2'] =np.zeros(320)\n",
    "Mtest['M_3'] =np.zeros(320)\n",
    "Mtest['M_4'] =np.zeros(320)\n",
    "Mtest['M_5'] =np.zeros(320)\n",
    "Mtest['M_6'] =np.zeros(320)\n",
    "Mtest['M_7'] =np.zeros(320)\n",
    "Mtest = Mtest[Mtrain.columns]\n",
    "print('Mtrain:', Mtrain.shape, '\\n', 'Mtest:', Mtest.shape)"
   ]
  },
  {
   "cell_type": "code",
   "execution_count": 15,
   "metadata": {},
   "outputs": [
    {
     "name": "stdout",
     "output_type": "stream",
     "text": [
      "Dtrain: (1000788, 31) \n",
      " Dtest: (320, 31)\n"
     ]
    }
   ],
   "source": [
    "Dtrain = pd.get_dummies( train.date_D , prefix='D' )\n",
    "Dtest = pd.get_dummies( test.date_D , prefix='D' )\n",
    "Dtest['D_2'] =np.zeros(320)\n",
    "Dtest['D_3'] =np.zeros(320)\n",
    "Dtest['D_4'] =np.zeros(320)\n",
    "Dtest['D_5'] =np.zeros(320)\n",
    "Dtest['D_8'] =np.zeros(320)\n",
    "Dtest['D_9'] =np.zeros(320)\n",
    "Dtest['D_10'] =np.zeros(320)\n",
    "Dtest['D_11'] =np.zeros(320)\n",
    "Dtest['D_12'] =np.zeros(320)\n",
    "Dtest['D_13'] =np.zeros(320)\n",
    "Dtest['D_14'] =np.zeros(320)\n",
    "Dtest['D_16'] =np.zeros(320)\n",
    "Dtest['D_17'] =np.zeros(320)\n",
    "Dtest['D_18'] =np.zeros(320)\n",
    "Dtest['D_19'] =np.zeros(320)\n",
    "Dtest['D_20'] =np.zeros(320)\n",
    "Dtest['D_22'] =np.zeros(320)\n",
    "Dtest['D_23'] =np.zeros(320)\n",
    "Dtest['D_24'] =np.zeros(320)\n",
    "Dtest['D_25'] =np.zeros(320)\n",
    "Dtest['D_26'] =np.zeros(320)\n",
    "Dtest['D_27'] =np.zeros(320)\n",
    "Dtest['D_28'] =np.zeros(320)\n",
    "Dtest['D_29'] =np.zeros(320)\n",
    "Dtest['D_31'] =np.zeros(320)\n",
    "Dtest = Dtest[Dtrain.columns]\n",
    "print('Dtrain:', Dtrain.shape, '\\n', 'Dtest:', Dtest.shape)"
   ]
  },
  {
   "cell_type": "code",
   "execution_count": 16,
   "metadata": {},
   "outputs": [
    {
     "name": "stdout",
     "output_type": "stream",
     "text": [
      "Htrain: (1000788, 24) \n",
      " Htest: (320, 24)\n"
     ]
    }
   ],
   "source": [
    "Htrain = pd.get_dummies( train.date_H , prefix='H' )\n",
    "Htest = pd.get_dummies( test.date_H , prefix='H' )\n",
    "Htest['H_2'] =np.zeros(320)\n",
    "Htest['H_3'] =np.zeros(320)\n",
    "Htest['H_4'] =np.zeros(320)\n",
    "Htest['H_5'] =np.zeros(320)\n",
    "Htest['H_6'] =np.zeros(320)\n",
    "Htest['H_7'] =np.zeros(320)\n",
    "Htest['H_8'] =np.zeros(320)\n",
    "Htest['H_9'] =np.zeros(320)\n",
    "Htest['H_12'] =np.zeros(320)\n",
    "Htest['H_13'] =np.zeros(320)\n",
    "Htest['H_17'] =np.zeros(320)\n",
    "Htest['H_18'] =np.zeros(320)\n",
    "Htest = Htest[Htrain.columns]\n",
    "print('Htrain:', Htrain.shape, '\\n', 'Htest:', Htest.shape)"
   ]
  },
  {
   "cell_type": "code",
   "execution_count": 17,
   "metadata": {},
   "outputs": [],
   "source": [
    "train_final = pd.concat([CTrain, TItrain, Ytrain, Mtrain, Dtrain, Htrain, haversine_train, duration_train], ignore_index= False, axis= 1 )"
   ]
  },
  {
   "cell_type": "code",
   "execution_count": 18,
   "metadata": {},
   "outputs": [],
   "source": [
    "test_final = pd.concat([CTest, TItest, Ytest, Mtest, Dtest, Htest, haversine_test , duration_test], ignore_index= False, axis= 1 )"
   ]
  },
  {
   "cell_type": "code",
   "execution_count": 19,
   "metadata": {},
   "outputs": [
    {
     "data": {
      "text/html": [
       "<div>\n",
       "<style scoped>\n",
       "    .dataframe tbody tr th:only-of-type {\n",
       "        vertical-align: middle;\n",
       "    }\n",
       "\n",
       "    .dataframe tbody tr th {\n",
       "        vertical-align: top;\n",
       "    }\n",
       "\n",
       "    .dataframe thead th {\n",
       "        text-align: right;\n",
       "    }\n",
       "</style>\n",
       "<table border=\"1\" class=\"dataframe\">\n",
       "  <thead>\n",
       "    <tr style=\"text-align: right;\">\n",
       "      <th></th>\n",
       "      <th>CALL_TYPE_A</th>\n",
       "      <th>CALL_TYPE_B</th>\n",
       "      <th>CALL_TYPE_C</th>\n",
       "      <th>TI_20000004</th>\n",
       "      <th>TI_20000005</th>\n",
       "      <th>TI_20000008</th>\n",
       "      <th>TI_20000009</th>\n",
       "      <th>TI_20000010</th>\n",
       "      <th>TI_20000012</th>\n",
       "      <th>TI_20000015</th>\n",
       "      <th>...</th>\n",
       "      <th>H_16</th>\n",
       "      <th>H_17</th>\n",
       "      <th>H_18</th>\n",
       "      <th>H_19</th>\n",
       "      <th>H_20</th>\n",
       "      <th>H_21</th>\n",
       "      <th>H_22</th>\n",
       "      <th>H_23</th>\n",
       "      <th>haversine</th>\n",
       "      <th>duration</th>\n",
       "    </tr>\n",
       "  </thead>\n",
       "  <tbody>\n",
       "    <tr>\n",
       "      <th>0</th>\n",
       "      <td>0</td>\n",
       "      <td>1</td>\n",
       "      <td>0</td>\n",
       "      <td>0</td>\n",
       "      <td>0</td>\n",
       "      <td>0</td>\n",
       "      <td>0</td>\n",
       "      <td>0</td>\n",
       "      <td>0</td>\n",
       "      <td>0</td>\n",
       "      <td>...</td>\n",
       "      <td>0</td>\n",
       "      <td>0.0</td>\n",
       "      <td>0.0</td>\n",
       "      <td>0</td>\n",
       "      <td>0</td>\n",
       "      <td>0</td>\n",
       "      <td>0</td>\n",
       "      <td>0</td>\n",
       "      <td>221.327676</td>\n",
       "      <td>150</td>\n",
       "    </tr>\n",
       "    <tr>\n",
       "      <th>1</th>\n",
       "      <td>0</td>\n",
       "      <td>1</td>\n",
       "      <td>0</td>\n",
       "      <td>0</td>\n",
       "      <td>0</td>\n",
       "      <td>0</td>\n",
       "      <td>0</td>\n",
       "      <td>0</td>\n",
       "      <td>0</td>\n",
       "      <td>0</td>\n",
       "      <td>...</td>\n",
       "      <td>0</td>\n",
       "      <td>0.0</td>\n",
       "      <td>0.0</td>\n",
       "      <td>0</td>\n",
       "      <td>0</td>\n",
       "      <td>0</td>\n",
       "      <td>0</td>\n",
       "      <td>0</td>\n",
       "      <td>2140.926138</td>\n",
       "      <td>585</td>\n",
       "    </tr>\n",
       "    <tr>\n",
       "      <th>2</th>\n",
       "      <td>0</td>\n",
       "      <td>1</td>\n",
       "      <td>0</td>\n",
       "      <td>0</td>\n",
       "      <td>0</td>\n",
       "      <td>0</td>\n",
       "      <td>0</td>\n",
       "      <td>0</td>\n",
       "      <td>0</td>\n",
       "      <td>0</td>\n",
       "      <td>...</td>\n",
       "      <td>0</td>\n",
       "      <td>0.0</td>\n",
       "      <td>0.0</td>\n",
       "      <td>0</td>\n",
       "      <td>0</td>\n",
       "      <td>0</td>\n",
       "      <td>0</td>\n",
       "      <td>0</td>\n",
       "      <td>2315.694331</td>\n",
       "      <td>585</td>\n",
       "    </tr>\n",
       "    <tr>\n",
       "      <th>3</th>\n",
       "      <td>0</td>\n",
       "      <td>1</td>\n",
       "      <td>0</td>\n",
       "      <td>0</td>\n",
       "      <td>0</td>\n",
       "      <td>0</td>\n",
       "      <td>0</td>\n",
       "      <td>0</td>\n",
       "      <td>0</td>\n",
       "      <td>0</td>\n",
       "      <td>...</td>\n",
       "      <td>0</td>\n",
       "      <td>0.0</td>\n",
       "      <td>0.0</td>\n",
       "      <td>0</td>\n",
       "      <td>0</td>\n",
       "      <td>0</td>\n",
       "      <td>0</td>\n",
       "      <td>0</td>\n",
       "      <td>60.304932</td>\n",
       "      <td>105</td>\n",
       "    </tr>\n",
       "    <tr>\n",
       "      <th>4</th>\n",
       "      <td>0</td>\n",
       "      <td>1</td>\n",
       "      <td>0</td>\n",
       "      <td>0</td>\n",
       "      <td>0</td>\n",
       "      <td>0</td>\n",
       "      <td>0</td>\n",
       "      <td>0</td>\n",
       "      <td>0</td>\n",
       "      <td>0</td>\n",
       "      <td>...</td>\n",
       "      <td>0</td>\n",
       "      <td>0.0</td>\n",
       "      <td>0.0</td>\n",
       "      <td>0</td>\n",
       "      <td>0</td>\n",
       "      <td>0</td>\n",
       "      <td>0</td>\n",
       "      <td>0</td>\n",
       "      <td>0.753580</td>\n",
       "      <td>15</td>\n",
       "    </tr>\n",
       "  </tbody>\n",
       "</table>\n",
       "<p>5 rows × 318 columns</p>\n",
       "</div>"
      ],
      "text/plain": [
       "   CALL_TYPE_A  CALL_TYPE_B  CALL_TYPE_C  TI_20000004  TI_20000005  \\\n",
       "0            0            1            0            0            0   \n",
       "1            0            1            0            0            0   \n",
       "2            0            1            0            0            0   \n",
       "3            0            1            0            0            0   \n",
       "4            0            1            0            0            0   \n",
       "\n",
       "   TI_20000008  TI_20000009  TI_20000010  TI_20000012  TI_20000015    ...     \\\n",
       "0            0            0            0            0            0    ...      \n",
       "1            0            0            0            0            0    ...      \n",
       "2            0            0            0            0            0    ...      \n",
       "3            0            0            0            0            0    ...      \n",
       "4            0            0            0            0            0    ...      \n",
       "\n",
       "   H_16  H_17  H_18  H_19  H_20  H_21  H_22  H_23    haversine  duration  \n",
       "0     0   0.0   0.0     0     0     0     0     0   221.327676       150  \n",
       "1     0   0.0   0.0     0     0     0     0     0  2140.926138       585  \n",
       "2     0   0.0   0.0     0     0     0     0     0  2315.694331       585  \n",
       "3     0   0.0   0.0     0     0     0     0     0    60.304932       105  \n",
       "4     0   0.0   0.0     0     0     0     0     0     0.753580        15  \n",
       "\n",
       "[5 rows x 318 columns]"
      ]
     },
     "execution_count": 19,
     "metadata": {},
     "output_type": "execute_result"
    }
   ],
   "source": [
    "test_final.head()"
   ]
  },
  {
   "cell_type": "code",
   "execution_count": 20,
   "metadata": {},
   "outputs": [
    {
     "data": {
      "text/html": [
       "<div>\n",
       "<style scoped>\n",
       "    .dataframe tbody tr th:only-of-type {\n",
       "        vertical-align: middle;\n",
       "    }\n",
       "\n",
       "    .dataframe tbody tr th {\n",
       "        vertical-align: top;\n",
       "    }\n",
       "\n",
       "    .dataframe thead th {\n",
       "        text-align: right;\n",
       "    }\n",
       "</style>\n",
       "<table border=\"1\" class=\"dataframe\">\n",
       "  <thead>\n",
       "    <tr style=\"text-align: right;\">\n",
       "      <th></th>\n",
       "      <th>CALL_TYPE_A</th>\n",
       "      <th>CALL_TYPE_B</th>\n",
       "      <th>CALL_TYPE_C</th>\n",
       "      <th>TI_20000004</th>\n",
       "      <th>TI_20000005</th>\n",
       "      <th>TI_20000008</th>\n",
       "      <th>TI_20000009</th>\n",
       "      <th>TI_20000010</th>\n",
       "      <th>TI_20000012</th>\n",
       "      <th>TI_20000015</th>\n",
       "      <th>...</th>\n",
       "      <th>H_16</th>\n",
       "      <th>H_17</th>\n",
       "      <th>H_18</th>\n",
       "      <th>H_19</th>\n",
       "      <th>H_20</th>\n",
       "      <th>H_21</th>\n",
       "      <th>H_22</th>\n",
       "      <th>H_23</th>\n",
       "      <th>haversine</th>\n",
       "      <th>duration</th>\n",
       "    </tr>\n",
       "  </thead>\n",
       "  <tbody>\n",
       "    <tr>\n",
       "      <th>0</th>\n",
       "      <td>0</td>\n",
       "      <td>0</td>\n",
       "      <td>1</td>\n",
       "      <td>0</td>\n",
       "      <td>0</td>\n",
       "      <td>0</td>\n",
       "      <td>0</td>\n",
       "      <td>0</td>\n",
       "      <td>0</td>\n",
       "      <td>0</td>\n",
       "      <td>...</td>\n",
       "      <td>0</td>\n",
       "      <td>0</td>\n",
       "      <td>0</td>\n",
       "      <td>0</td>\n",
       "      <td>0</td>\n",
       "      <td>0</td>\n",
       "      <td>0</td>\n",
       "      <td>0</td>\n",
       "      <td>2699.525658</td>\n",
       "      <td>285</td>\n",
       "    </tr>\n",
       "    <tr>\n",
       "      <th>1</th>\n",
       "      <td>0</td>\n",
       "      <td>1</td>\n",
       "      <td>0</td>\n",
       "      <td>0</td>\n",
       "      <td>0</td>\n",
       "      <td>0</td>\n",
       "      <td>0</td>\n",
       "      <td>0</td>\n",
       "      <td>0</td>\n",
       "      <td>0</td>\n",
       "      <td>...</td>\n",
       "      <td>0</td>\n",
       "      <td>0</td>\n",
       "      <td>0</td>\n",
       "      <td>0</td>\n",
       "      <td>0</td>\n",
       "      <td>0</td>\n",
       "      <td>0</td>\n",
       "      <td>0</td>\n",
       "      <td>3714.635135</td>\n",
       "      <td>990</td>\n",
       "    </tr>\n",
       "    <tr>\n",
       "      <th>2</th>\n",
       "      <td>0</td>\n",
       "      <td>1</td>\n",
       "      <td>0</td>\n",
       "      <td>0</td>\n",
       "      <td>0</td>\n",
       "      <td>0</td>\n",
       "      <td>0</td>\n",
       "      <td>0</td>\n",
       "      <td>0</td>\n",
       "      <td>0</td>\n",
       "      <td>...</td>\n",
       "      <td>0</td>\n",
       "      <td>0</td>\n",
       "      <td>0</td>\n",
       "      <td>0</td>\n",
       "      <td>0</td>\n",
       "      <td>0</td>\n",
       "      <td>0</td>\n",
       "      <td>0</td>\n",
       "      <td>6961.118842</td>\n",
       "      <td>1110</td>\n",
       "    </tr>\n",
       "    <tr>\n",
       "      <th>3</th>\n",
       "      <td>0</td>\n",
       "      <td>1</td>\n",
       "      <td>0</td>\n",
       "      <td>0</td>\n",
       "      <td>0</td>\n",
       "      <td>0</td>\n",
       "      <td>0</td>\n",
       "      <td>0</td>\n",
       "      <td>0</td>\n",
       "      <td>0</td>\n",
       "      <td>...</td>\n",
       "      <td>0</td>\n",
       "      <td>1</td>\n",
       "      <td>0</td>\n",
       "      <td>0</td>\n",
       "      <td>0</td>\n",
       "      <td>0</td>\n",
       "      <td>0</td>\n",
       "      <td>0</td>\n",
       "      <td>5106.289381</td>\n",
       "      <td>840</td>\n",
       "    </tr>\n",
       "    <tr>\n",
       "      <th>4</th>\n",
       "      <td>1</td>\n",
       "      <td>0</td>\n",
       "      <td>0</td>\n",
       "      <td>0</td>\n",
       "      <td>0</td>\n",
       "      <td>0</td>\n",
       "      <td>0</td>\n",
       "      <td>0</td>\n",
       "      <td>0</td>\n",
       "      <td>0</td>\n",
       "      <td>...</td>\n",
       "      <td>0</td>\n",
       "      <td>1</td>\n",
       "      <td>0</td>\n",
       "      <td>0</td>\n",
       "      <td>0</td>\n",
       "      <td>0</td>\n",
       "      <td>0</td>\n",
       "      <td>0</td>\n",
       "      <td>1116.428898</td>\n",
       "      <td>315</td>\n",
       "    </tr>\n",
       "  </tbody>\n",
       "</table>\n",
       "<p>5 rows × 318 columns</p>\n",
       "</div>"
      ],
      "text/plain": [
       "   CALL_TYPE_A  CALL_TYPE_B  CALL_TYPE_C  TI_20000004  TI_20000005  \\\n",
       "0            0            0            1            0            0   \n",
       "1            0            1            0            0            0   \n",
       "2            0            1            0            0            0   \n",
       "3            0            1            0            0            0   \n",
       "4            1            0            0            0            0   \n",
       "\n",
       "   TI_20000008  TI_20000009  TI_20000010  TI_20000012  TI_20000015    ...     \\\n",
       "0            0            0            0            0            0    ...      \n",
       "1            0            0            0            0            0    ...      \n",
       "2            0            0            0            0            0    ...      \n",
       "3            0            0            0            0            0    ...      \n",
       "4            0            0            0            0            0    ...      \n",
       "\n",
       "   H_16  H_17  H_18  H_19  H_20  H_21  H_22  H_23    haversine  duration  \n",
       "0     0     0     0     0     0     0     0     0  2699.525658       285  \n",
       "1     0     0     0     0     0     0     0     0  3714.635135       990  \n",
       "2     0     0     0     0     0     0     0     0  6961.118842      1110  \n",
       "3     0     1     0     0     0     0     0     0  5106.289381       840  \n",
       "4     0     1     0     0     0     0     0     0  1116.428898       315  \n",
       "\n",
       "[5 rows x 318 columns]"
      ]
     },
     "execution_count": 20,
     "metadata": {},
     "output_type": "execute_result"
    }
   ],
   "source": [
    "train_final.head()"
   ]
  },
  {
   "cell_type": "code",
   "execution_count": 72,
   "metadata": {},
   "outputs": [],
   "source": [
    "train_s = train_final.sample(frac=0.01, replace=True)"
   ]
  },
  {
   "cell_type": "code",
   "execution_count": 104,
   "metadata": {},
   "outputs": [
    {
     "data": {
      "text/html": [
       "<div>\n",
       "<style scoped>\n",
       "    .dataframe tbody tr th:only-of-type {\n",
       "        vertical-align: middle;\n",
       "    }\n",
       "\n",
       "    .dataframe tbody tr th {\n",
       "        vertical-align: top;\n",
       "    }\n",
       "\n",
       "    .dataframe thead th {\n",
       "        text-align: right;\n",
       "    }\n",
       "</style>\n",
       "<table border=\"1\" class=\"dataframe\">\n",
       "  <thead>\n",
       "    <tr style=\"text-align: right;\">\n",
       "      <th></th>\n",
       "      <th>CALL_TYPE_A</th>\n",
       "      <th>CALL_TYPE_B</th>\n",
       "      <th>CALL_TYPE_C</th>\n",
       "      <th>TI_20000004</th>\n",
       "      <th>TI_20000005</th>\n",
       "      <th>TI_20000008</th>\n",
       "      <th>TI_20000009</th>\n",
       "      <th>TI_20000010</th>\n",
       "      <th>TI_20000012</th>\n",
       "      <th>TI_20000015</th>\n",
       "      <th>...</th>\n",
       "      <th>H_16</th>\n",
       "      <th>H_17</th>\n",
       "      <th>H_18</th>\n",
       "      <th>H_19</th>\n",
       "      <th>H_20</th>\n",
       "      <th>H_21</th>\n",
       "      <th>H_22</th>\n",
       "      <th>H_23</th>\n",
       "      <th>haversine</th>\n",
       "      <th>duration</th>\n",
       "    </tr>\n",
       "  </thead>\n",
       "  <tbody>\n",
       "    <tr>\n",
       "      <th>779999</th>\n",
       "      <td>0</td>\n",
       "      <td>0</td>\n",
       "      <td>1</td>\n",
       "      <td>0</td>\n",
       "      <td>0</td>\n",
       "      <td>0</td>\n",
       "      <td>0</td>\n",
       "      <td>0</td>\n",
       "      <td>0</td>\n",
       "      <td>0</td>\n",
       "      <td>...</td>\n",
       "      <td>0</td>\n",
       "      <td>0</td>\n",
       "      <td>0</td>\n",
       "      <td>1</td>\n",
       "      <td>0</td>\n",
       "      <td>0</td>\n",
       "      <td>0</td>\n",
       "      <td>0</td>\n",
       "      <td>3184.905185</td>\n",
       "      <td>825</td>\n",
       "    </tr>\n",
       "    <tr>\n",
       "      <th>186525</th>\n",
       "      <td>0</td>\n",
       "      <td>1</td>\n",
       "      <td>0</td>\n",
       "      <td>0</td>\n",
       "      <td>0</td>\n",
       "      <td>0</td>\n",
       "      <td>0</td>\n",
       "      <td>0</td>\n",
       "      <td>0</td>\n",
       "      <td>0</td>\n",
       "      <td>...</td>\n",
       "      <td>0</td>\n",
       "      <td>0</td>\n",
       "      <td>0</td>\n",
       "      <td>0</td>\n",
       "      <td>0</td>\n",
       "      <td>0</td>\n",
       "      <td>0</td>\n",
       "      <td>0</td>\n",
       "      <td>2866.420187</td>\n",
       "      <td>450</td>\n",
       "    </tr>\n",
       "    <tr>\n",
       "      <th>84985</th>\n",
       "      <td>1</td>\n",
       "      <td>0</td>\n",
       "      <td>0</td>\n",
       "      <td>0</td>\n",
       "      <td>0</td>\n",
       "      <td>0</td>\n",
       "      <td>0</td>\n",
       "      <td>0</td>\n",
       "      <td>0</td>\n",
       "      <td>0</td>\n",
       "      <td>...</td>\n",
       "      <td>0</td>\n",
       "      <td>0</td>\n",
       "      <td>0</td>\n",
       "      <td>0</td>\n",
       "      <td>0</td>\n",
       "      <td>0</td>\n",
       "      <td>0</td>\n",
       "      <td>0</td>\n",
       "      <td>2410.225801</td>\n",
       "      <td>810</td>\n",
       "    </tr>\n",
       "    <tr>\n",
       "      <th>312627</th>\n",
       "      <td>0</td>\n",
       "      <td>1</td>\n",
       "      <td>0</td>\n",
       "      <td>0</td>\n",
       "      <td>0</td>\n",
       "      <td>0</td>\n",
       "      <td>0</td>\n",
       "      <td>0</td>\n",
       "      <td>0</td>\n",
       "      <td>0</td>\n",
       "      <td>...</td>\n",
       "      <td>0</td>\n",
       "      <td>0</td>\n",
       "      <td>0</td>\n",
       "      <td>0</td>\n",
       "      <td>0</td>\n",
       "      <td>0</td>\n",
       "      <td>1</td>\n",
       "      <td>0</td>\n",
       "      <td>2148.923203</td>\n",
       "      <td>795</td>\n",
       "    </tr>\n",
       "    <tr>\n",
       "      <th>918004</th>\n",
       "      <td>0</td>\n",
       "      <td>1</td>\n",
       "      <td>0</td>\n",
       "      <td>0</td>\n",
       "      <td>0</td>\n",
       "      <td>0</td>\n",
       "      <td>0</td>\n",
       "      <td>0</td>\n",
       "      <td>0</td>\n",
       "      <td>0</td>\n",
       "      <td>...</td>\n",
       "      <td>0</td>\n",
       "      <td>0</td>\n",
       "      <td>0</td>\n",
       "      <td>0</td>\n",
       "      <td>0</td>\n",
       "      <td>0</td>\n",
       "      <td>0</td>\n",
       "      <td>0</td>\n",
       "      <td>0.000000</td>\n",
       "      <td>0</td>\n",
       "    </tr>\n",
       "  </tbody>\n",
       "</table>\n",
       "<p>5 rows × 318 columns</p>\n",
       "</div>"
      ],
      "text/plain": [
       "        CALL_TYPE_A  CALL_TYPE_B  CALL_TYPE_C  TI_20000004  TI_20000005  \\\n",
       "779999            0            0            1            0            0   \n",
       "186525            0            1            0            0            0   \n",
       "84985             1            0            0            0            0   \n",
       "312627            0            1            0            0            0   \n",
       "918004            0            1            0            0            0   \n",
       "\n",
       "        TI_20000008  TI_20000009  TI_20000010  TI_20000012  TI_20000015  \\\n",
       "779999            0            0            0            0            0   \n",
       "186525            0            0            0            0            0   \n",
       "84985             0            0            0            0            0   \n",
       "312627            0            0            0            0            0   \n",
       "918004            0            0            0            0            0   \n",
       "\n",
       "          ...     H_16  H_17  H_18  H_19  H_20  H_21  H_22  H_23    haversine  \\\n",
       "779999    ...        0     0     0     1     0     0     0     0  3184.905185   \n",
       "186525    ...        0     0     0     0     0     0     0     0  2866.420187   \n",
       "84985     ...        0     0     0     0     0     0     0     0  2410.225801   \n",
       "312627    ...        0     0     0     0     0     0     1     0  2148.923203   \n",
       "918004    ...        0     0     0     0     0     0     0     0     0.000000   \n",
       "\n",
       "        duration  \n",
       "779999       825  \n",
       "186525       450  \n",
       "84985        810  \n",
       "312627       795  \n",
       "918004         0  \n",
       "\n",
       "[5 rows x 318 columns]"
      ]
     },
     "execution_count": 104,
     "metadata": {},
     "output_type": "execute_result"
    }
   ],
   "source": [
    "train_s.head()"
   ]
  },
  {
   "cell_type": "code",
   "execution_count": 74,
   "metadata": {},
   "outputs": [
    {
     "data": {
      "text/plain": [
       "(1000788, 318)"
      ]
     },
     "execution_count": 74,
     "metadata": {},
     "output_type": "execute_result"
    }
   ],
   "source": [
    "train_final.shape"
   ]
  },
  {
   "cell_type": "markdown",
   "metadata": {},
   "source": [
    "# build the model"
   ]
  },
  {
   "cell_type": "code",
   "execution_count": 75,
   "metadata": {},
   "outputs": [],
   "source": [
    "from sklearn.preprocessing  import StandardScaler\n",
    "from sklearn import cross_validation, metrics\n",
    "from sklearn.grid_search import GridSearchCV\n",
    "from sklearn.model_selection import train_test_split, KFold, cross_val_score\n",
    "from sklearn.metrics import mean_squared_error,r2_score, mean_squared_log_error, mean_absolute_error, mean_squared_log_error"
   ]
  },
  {
   "cell_type": "code",
   "execution_count": 76,
   "metadata": {},
   "outputs": [],
   "source": [
    "X = train_s.iloc[:, 0:-1]\n",
    "Y = train_s.loc[:,['duration']]\n",
    "vaild_X = test_final.iloc[:, 0:-1]\n",
    "vaild_Y = test_final.loc[:,['duration']]"
   ]
  },
  {
   "cell_type": "code",
   "execution_count": 77,
   "metadata": {},
   "outputs": [],
   "source": [
    "X_train, X_test, y_train, y_test = train_test_split(X, Y, test_size = 0.2, random_state = 889)"
   ]
  },
  {
   "cell_type": "code",
   "execution_count": 78,
   "metadata": {},
   "outputs": [
    {
     "data": {
      "text/plain": [
       "(8006, 1)"
      ]
     },
     "execution_count": 78,
     "metadata": {},
     "output_type": "execute_result"
    }
   ],
   "source": [
    "y_train.shape"
   ]
  },
  {
   "cell_type": "code",
   "execution_count": 79,
   "metadata": {},
   "outputs": [
    {
     "data": {
      "text/plain": [
       "(2002, 1)"
      ]
     },
     "execution_count": 79,
     "metadata": {},
     "output_type": "execute_result"
    }
   ],
   "source": [
    "y_test.shape"
   ]
  },
  {
   "cell_type": "markdown",
   "metadata": {},
   "source": [
    "# DTR"
   ]
  },
  {
   "cell_type": "code",
   "execution_count": 80,
   "metadata": {},
   "outputs": [],
   "source": [
    "from sklearn.tree import DecisionTreeRegressor"
   ]
  },
  {
   "cell_type": "code",
   "execution_count": 81,
   "metadata": {},
   "outputs": [
    {
     "data": {
      "text/plain": [
       "DecisionTreeRegressor(criterion='mse', max_depth=None, max_features=None,\n",
       "           max_leaf_nodes=None, min_impurity_decrease=0.0,\n",
       "           min_impurity_split=None, min_samples_leaf=1,\n",
       "           min_samples_split=2, min_weight_fraction_leaf=0.0,\n",
       "           presort=False, random_state=889, splitter='best')"
      ]
     },
     "execution_count": 81,
     "metadata": {},
     "output_type": "execute_result"
    }
   ],
   "source": [
    "DTR = DecisionTreeRegressor(random_state=889)\n",
    "DTR.fit(X_train, y_train)"
   ]
  },
  {
   "cell_type": "markdown",
   "metadata": {},
   "source": [
    "## test set"
   ]
  },
  {
   "cell_type": "code",
   "execution_count": 82,
   "metadata": {},
   "outputs": [
    {
     "data": {
      "text/plain": [
       "0.4446998899199996"
      ]
     },
     "execution_count": 82,
     "metadata": {},
     "output_type": "execute_result"
    }
   ],
   "source": [
    "DTR_predict=DTR.predict(X_test)\n",
    "mean_squared_log_error(DTR_predict, y_test)"
   ]
  },
  {
   "cell_type": "markdown",
   "metadata": {},
   "source": [
    "## training set"
   ]
  },
  {
   "cell_type": "code",
   "execution_count": 83,
   "metadata": {},
   "outputs": [
    {
     "data": {
      "text/plain": [
       "1.5534709913971803"
      ]
     },
     "execution_count": 83,
     "metadata": {},
     "output_type": "execute_result"
    }
   ],
   "source": [
    "DTR_vaild = DTR.predict(vaild_X)\n",
    "mean_squared_log_error(DTR_vaild, vaild_Y)"
   ]
  },
  {
   "cell_type": "code",
   "execution_count": 84,
   "metadata": {},
   "outputs": [],
   "source": [
    "#DTR_vaild"
   ]
  },
  {
   "cell_type": "markdown",
   "metadata": {},
   "source": [
    "# RFR"
   ]
  },
  {
   "cell_type": "code",
   "execution_count": 85,
   "metadata": {
    "scrolled": true
   },
   "outputs": [],
   "source": [
    "from sklearn.ensemble import RandomForestRegressor"
   ]
  },
  {
   "cell_type": "code",
   "execution_count": 86,
   "metadata": {},
   "outputs": [
    {
     "name": "stderr",
     "output_type": "stream",
     "text": [
      "C:\\Users\\hahohy889\\AppData\\Roaming\\Python\\Python36\\site-packages\\ipykernel_launcher.py:2: DataConversionWarning: A column-vector y was passed when a 1d array was expected. Please change the shape of y to (n_samples,), for example using ravel().\n",
      "  \n"
     ]
    },
    {
     "data": {
      "text/plain": [
       "RandomForestRegressor(bootstrap=True, criterion='mse', max_depth=None,\n",
       "           max_features='auto', max_leaf_nodes=None,\n",
       "           min_impurity_decrease=0.0, min_impurity_split=None,\n",
       "           min_samples_leaf=1, min_samples_split=2,\n",
       "           min_weight_fraction_leaf=0.0, n_estimators=100, n_jobs=1,\n",
       "           oob_score=False, random_state=889, verbose=0, warm_start=False)"
      ]
     },
     "execution_count": 86,
     "metadata": {},
     "output_type": "execute_result"
    }
   ],
   "source": [
    "RFR = RandomForestRegressor(random_state=889, n_estimators=100)\n",
    "RFR.fit(X_train, y_train)"
   ]
  },
  {
   "cell_type": "markdown",
   "metadata": {},
   "source": [
    "## test set"
   ]
  },
  {
   "cell_type": "code",
   "execution_count": 94,
   "metadata": {},
   "outputs": [
    {
     "data": {
      "text/plain": [
       "0.31318884356083243"
      ]
     },
     "execution_count": 94,
     "metadata": {},
     "output_type": "execute_result"
    }
   ],
   "source": [
    "RFR_predict=RFR.predict(X_test)\n",
    "mean_squared_log_error(RFR_predict, y_test)"
   ]
  },
  {
   "cell_type": "markdown",
   "metadata": {},
   "source": [
    "### training set"
   ]
  },
  {
   "cell_type": "code",
   "execution_count": 89,
   "metadata": {},
   "outputs": [
    {
     "data": {
      "text/plain": [
       "1.3474952253083463"
      ]
     },
     "execution_count": 89,
     "metadata": {},
     "output_type": "execute_result"
    }
   ],
   "source": [
    "RFR_vaild = RFR.predict(vaild_X)\n",
    "mean_squared_log_error(RFR_vaild, vaild_Y)"
   ]
  },
  {
   "cell_type": "code",
   "execution_count": 116,
   "metadata": {
    "scrolled": true
   },
   "outputs": [
    {
     "data": {
      "text/plain": [
       "array([  606.75      ,  2096.4       ,   544.075     ,   639.5625    ,\n",
       "         685.3       ,  1451.15      ,   680.9875    ,   691.65      ,\n",
       "         532.8       ,   781.5       ,   636.55      ,   675.21428571,\n",
       "         623.46428571,   713.58928571,   639.06428571,   675.3       ,\n",
       "         704.06428571,   788.61428571,   824.1       ,   935.16428571,\n",
       "         831.3       ,   660.45      ,   681.3       ,   854.2       ,\n",
       "         610.9875    ,   610.6875    ,   614.7       ,   700.2       ,\n",
       "         882.9       ,   771.        ,   651.2       ,   867.675     ,\n",
       "         809.16428571,   746.58428571,   647.01428571,   682.26428571,\n",
       "         778.95      ,   640.6875    ,  1347.975     ,   597.32571429,\n",
       "         873.77166667,   589.26428571,  2987.85      ,   421.25      ,\n",
       "         591.4       ,   479.5375    ,   769.56428571,   684.51428571,\n",
       "         723.475     ,  1044.75      ,  1076.7       ,   570.2625    ,\n",
       "         894.        ,   793.1       ,   623.5       ,   957.        ,\n",
       "         617.35      ,   581.875     ,  1291.1       ,   677.4       ,\n",
       "         874.275     ,   701.46428571,   665.46428571,   781.35      ,\n",
       "         618.7       ,   620.85      ,   529.3       ,   742.2       ,\n",
       "         689.16428571,   553.27857143,   988.72      ,   969.36428571,\n",
       "         632.2       ,   936.8525    ,   450.        ,  1869.03      ,\n",
       "         418.35      ,   619.895     ,   884.5375    ,  1538.4       ,\n",
       "         604.845     ,   509.35      ,   683.85      ,   623.925     ,\n",
       "         575.4       ,   565.2       ,   946.75      ,   669.25      ,\n",
       "         456.225     ,   707.7       ,   615.825     ,   639.3       ,\n",
       "         682.905     ,   584.775     ,   621.4925    ,  1719.38      ,\n",
       "         965.625     ,   648.375     ,   580.8375    ,    50.77886905,\n",
       "         613.5       ,   642.925     ,   630.81      ,   473.94      ,\n",
       "         978.45      ,   762.        ,   531.75      ,   569.4       ,\n",
       "         712.875     ,   614.625     ,   585.325     ,   603.775     ,\n",
       "         475.2       ,   536.25      ,   672.425     ,   594.15      ,\n",
       "         461.175     ,   714.8825    ,   641.55      ,   442.65      ,\n",
       "         573.225     ,   567.975     ,   518.175     ,   613.875     ,\n",
       "         532.0875    ,   418.645     ,   595.36420455,   708.675     ,\n",
       "         613.575     ,   752.55      ,   490.02      ,   515.19      ,\n",
       "         749.55      ,   826.6875    , 10912.5       ,   636.04      ,\n",
       "         910.395     ,   552.675     ,   664.05      ,   921.075     ,\n",
       "         895.3       ,   449.505     ,   617.225     ,   916.62      ,\n",
       "         740.775     ,   691.275     ,   456.375     ,   634.71      ,\n",
       "         561.825     ,   500.97857143,   594.825     ,   842.7       ,\n",
       "         818.65      ,  1036.2       ,   413.9075    ,   579.01      ,\n",
       "         329.85      ,  1044.01      ,   565.0225    ,   587.6475    ,\n",
       "         965.9275    ,   722.53      ,  1206.        ,   555.41      ,\n",
       "         791.4       ,   526.325     ,   786.425     ,   708.        ,\n",
       "        1221.59      ,   866.635     ,   627.1975    ,   513.91      ,\n",
       "         447.95964286,   607.35      ,  1033.7225    ,   790.40535714,\n",
       "         775.2475    ,   805.05      ,   837.        ,   862.2       ,\n",
       "         748.1375    ,   725.11      ,   825.45      ,   915.18      ,\n",
       "         996.86      ,  1190.1       ,   833.7       ,   527.5975    ,\n",
       "        1340.575     ,   871.06964286,   907.5       ,   536.71      ,\n",
       "        1050.75      ,   694.83      ,   574.285     ,   709.33      ,\n",
       "         739.65      ,   550.2475    ,  1249.83      ,   507.4725    ,\n",
       "         732.835     ,   885.5875    ,   757.0475    ,   948.03107143,\n",
       "         527.225     ,  1210.275     ,   448.3225    ,   734.7       ,\n",
       "         451.05      ,   668.88      ,   553.1975    ,   771.41      ,\n",
       "        1536.675     ,   579.025     ,   729.1       ,   766.2       ,\n",
       "        1461.55      ,   541.735     ,   758.81      ,   979.8125    ,\n",
       "         764.0975    ,   827.75      ,   952.725     ,   687.        ,\n",
       "         610.96      ,   539.185     ,   928.1375    ,   801.15      ,\n",
       "         458.985     ,   629.29142857,   464.27464286,   400.75      ,\n",
       "         545.6425    ,   474.8975    ,   481.715     ,   403.02571429,\n",
       "         632.90392857,   480.0925    ,   471.0175    ,   601.35      ,\n",
       "         550.805     ,   522.27928571,   294.15      ,   585.6       ,\n",
       "         466.05      ,   478.9775    ,   454.05      ,   364.7475    ,\n",
       "         668.85      ,   688.05      ,   547.4       ,   513.8925    ,\n",
       "         552.4       ,   572.3475    ,   424.95      ,   628.31857143,\n",
       "         430.48125   ,   727.02535714,   571.45      ,   510.395     ,\n",
       "         474.8425    ,  1042.91      ,   605.96      ,   649.25875   ,\n",
       "         562.21      ,   483.50625   ,   426.02      ,   476.4425    ,\n",
       "         503.6375    ,   989.18      ,   686.125     ,   623.1875    ,\n",
       "         526.9425    ,   221.825     ,   471.425     ,   501.15      ,\n",
       "         376.69833333,   573.37178571,   380.95      ,   475.2425    ,\n",
       "         446.925     ,   393.31321429,   289.2025    ,   442.35      ,\n",
       "         500.48      ,   561.6       ,   426.5725    ,   721.48      ,\n",
       "         516.2675    ,   537.1425    ,   528.8625    ,   534.6       ,\n",
       "         694.05      ,   760.525     ,   878.1       ,   713.16      ,\n",
       "         862.95      ,   482.16      ,   703.975     ,  1079.6975    ,\n",
       "         622.925     ,   652.675     ,   645.45      ,   358.345     ,\n",
       "         583.725     ,   566.85      ,   983.4       ,   644.11      ,\n",
       "         518.06      ,   880.2       ,   551.19642857,   716.85      ,\n",
       "         717.9       ,   851.5       ,   762.325     ,   618.15      ,\n",
       "         649.8       ,   639.595     ,   822.        ,   501.6       ])"
      ]
     },
     "execution_count": 116,
     "metadata": {},
     "output_type": "execute_result"
    }
   ],
   "source": [
    "RFR_vaild"
   ]
  },
  {
   "cell_type": "markdown",
   "metadata": {},
   "source": [
    "# GBDT"
   ]
  },
  {
   "cell_type": "code",
   "execution_count": 90,
   "metadata": {},
   "outputs": [],
   "source": [
    "from sklearn.ensemble import GradientBoostingRegressor"
   ]
  },
  {
   "cell_type": "code",
   "execution_count": 91,
   "metadata": {},
   "outputs": [
    {
     "name": "stderr",
     "output_type": "stream",
     "text": [
      "C:\\Users\\hahohy889\\Anaconda3\\lib\\site-packages\\sklearn\\utils\\validation.py:578: DataConversionWarning: A column-vector y was passed when a 1d array was expected. Please change the shape of y to (n_samples, ), for example using ravel().\n",
      "  y = column_or_1d(y, warn=True)\n"
     ]
    },
    {
     "data": {
      "text/plain": [
       "GradientBoostingRegressor(alpha=0.9, criterion='friedman_mse', init=None,\n",
       "             learning_rate=0.1, loss='ls', max_depth=3, max_features=None,\n",
       "             max_leaf_nodes=None, min_impurity_decrease=0.0,\n",
       "             min_impurity_split=None, min_samples_leaf=1,\n",
       "             min_samples_split=2, min_weight_fraction_leaf=0.0,\n",
       "             n_estimators=100, presort='auto', random_state=889,\n",
       "             subsample=1.0, verbose=0, warm_start=False)"
      ]
     },
     "execution_count": 91,
     "metadata": {},
     "output_type": "execute_result"
    }
   ],
   "source": [
    "GBDT = GradientBoostingRegressor(random_state=889)\n",
    "GBDT.fit(X_train, y_train)"
   ]
  },
  {
   "cell_type": "markdown",
   "metadata": {},
   "source": [
    "### test set"
   ]
  },
  {
   "cell_type": "code",
   "execution_count": 107,
   "metadata": {},
   "outputs": [],
   "source": [
    "yy_test = np.array(y_test)"
   ]
  },
  {
   "cell_type": "code",
   "execution_count": 115,
   "metadata": {
    "collapsed": true
   },
   "outputs": [
    {
     "name": "stderr",
     "output_type": "stream",
     "text": [
      "C:\\Users\\hahohy889\\Anaconda3\\lib\\site-packages\\sklearn\\metrics\\regression.py:314: RuntimeWarning: invalid value encountered in log\n",
      "  return mean_squared_error(np.log(y_true + 1), np.log(y_pred + 1),\n"
     ]
    },
    {
     "ename": "ValueError",
     "evalue": "Input contains NaN, infinity or a value too large for dtype('float64').",
     "output_type": "error",
     "traceback": [
      "\u001b[1;31m---------------------------------------------------------------------------\u001b[0m",
      "\u001b[1;31mValueError\u001b[0m                                Traceback (most recent call last)",
      "\u001b[1;32m<ipython-input-115-0b6e8ee68ff2>\u001b[0m in \u001b[0;36m<module>\u001b[1;34m()\u001b[0m\n\u001b[0;32m      1\u001b[0m \u001b[0mGBDT_predict\u001b[0m\u001b[1;33m=\u001b[0m\u001b[0mGBDT\u001b[0m\u001b[1;33m.\u001b[0m\u001b[0mpredict\u001b[0m\u001b[1;33m(\u001b[0m\u001b[0mX_test\u001b[0m\u001b[1;33m)\u001b[0m\u001b[1;33m\u001b[0m\u001b[0m\n\u001b[1;32m----> 2\u001b[1;33m \u001b[0mmean_squared_log_error\u001b[0m\u001b[1;33m(\u001b[0m\u001b[0mGBDT_predict\u001b[0m\u001b[1;33m,\u001b[0m \u001b[0my_test\u001b[0m\u001b[1;33m)\u001b[0m\u001b[1;33m\u001b[0m\u001b[0m\n\u001b[0m",
      "\u001b[1;32m~\\Anaconda3\\lib\\site-packages\\sklearn\\metrics\\regression.py\u001b[0m in \u001b[0;36mmean_squared_log_error\u001b[1;34m(y_true, y_pred, sample_weight, multioutput)\u001b[0m\n\u001b[0;32m    313\u001b[0m \u001b[1;33m\u001b[0m\u001b[0m\n\u001b[0;32m    314\u001b[0m     return mean_squared_error(np.log(y_true + 1), np.log(y_pred + 1),\n\u001b[1;32m--> 315\u001b[1;33m                               sample_weight, multioutput)\n\u001b[0m\u001b[0;32m    316\u001b[0m \u001b[1;33m\u001b[0m\u001b[0m\n\u001b[0;32m    317\u001b[0m \u001b[1;33m\u001b[0m\u001b[0m\n",
      "\u001b[1;32m~\\Anaconda3\\lib\\site-packages\\sklearn\\metrics\\regression.py\u001b[0m in \u001b[0;36mmean_squared_error\u001b[1;34m(y_true, y_pred, sample_weight, multioutput)\u001b[0m\n\u001b[0;32m    236\u001b[0m     \"\"\"\n\u001b[0;32m    237\u001b[0m     y_type, y_true, y_pred, multioutput = _check_reg_targets(\n\u001b[1;32m--> 238\u001b[1;33m         y_true, y_pred, multioutput)\n\u001b[0m\u001b[0;32m    239\u001b[0m     output_errors = np.average((y_true - y_pred) ** 2, axis=0,\n\u001b[0;32m    240\u001b[0m                                weights=sample_weight)\n",
      "\u001b[1;32m~\\Anaconda3\\lib\\site-packages\\sklearn\\metrics\\regression.py\u001b[0m in \u001b[0;36m_check_reg_targets\u001b[1;34m(y_true, y_pred, multioutput)\u001b[0m\n\u001b[0;32m     74\u001b[0m     \"\"\"\n\u001b[0;32m     75\u001b[0m     \u001b[0mcheck_consistent_length\u001b[0m\u001b[1;33m(\u001b[0m\u001b[0my_true\u001b[0m\u001b[1;33m,\u001b[0m \u001b[0my_pred\u001b[0m\u001b[1;33m)\u001b[0m\u001b[1;33m\u001b[0m\u001b[0m\n\u001b[1;32m---> 76\u001b[1;33m     \u001b[0my_true\u001b[0m \u001b[1;33m=\u001b[0m \u001b[0mcheck_array\u001b[0m\u001b[1;33m(\u001b[0m\u001b[0my_true\u001b[0m\u001b[1;33m,\u001b[0m \u001b[0mensure_2d\u001b[0m\u001b[1;33m=\u001b[0m\u001b[1;32mFalse\u001b[0m\u001b[1;33m)\u001b[0m\u001b[1;33m\u001b[0m\u001b[0m\n\u001b[0m\u001b[0;32m     77\u001b[0m     \u001b[0my_pred\u001b[0m \u001b[1;33m=\u001b[0m \u001b[0mcheck_array\u001b[0m\u001b[1;33m(\u001b[0m\u001b[0my_pred\u001b[0m\u001b[1;33m,\u001b[0m \u001b[0mensure_2d\u001b[0m\u001b[1;33m=\u001b[0m\u001b[1;32mFalse\u001b[0m\u001b[1;33m)\u001b[0m\u001b[1;33m\u001b[0m\u001b[0m\n\u001b[0;32m     78\u001b[0m \u001b[1;33m\u001b[0m\u001b[0m\n",
      "\u001b[1;32m~\\Anaconda3\\lib\\site-packages\\sklearn\\utils\\validation.py\u001b[0m in \u001b[0;36mcheck_array\u001b[1;34m(array, accept_sparse, dtype, order, copy, force_all_finite, ensure_2d, allow_nd, ensure_min_samples, ensure_min_features, warn_on_dtype, estimator)\u001b[0m\n\u001b[0;32m    451\u001b[0m                              % (array.ndim, estimator_name))\n\u001b[0;32m    452\u001b[0m         \u001b[1;32mif\u001b[0m \u001b[0mforce_all_finite\u001b[0m\u001b[1;33m:\u001b[0m\u001b[1;33m\u001b[0m\u001b[0m\n\u001b[1;32m--> 453\u001b[1;33m             \u001b[0m_assert_all_finite\u001b[0m\u001b[1;33m(\u001b[0m\u001b[0marray\u001b[0m\u001b[1;33m)\u001b[0m\u001b[1;33m\u001b[0m\u001b[0m\n\u001b[0m\u001b[0;32m    454\u001b[0m \u001b[1;33m\u001b[0m\u001b[0m\n\u001b[0;32m    455\u001b[0m     \u001b[0mshape_repr\u001b[0m \u001b[1;33m=\u001b[0m \u001b[0m_shape_repr\u001b[0m\u001b[1;33m(\u001b[0m\u001b[0marray\u001b[0m\u001b[1;33m.\u001b[0m\u001b[0mshape\u001b[0m\u001b[1;33m)\u001b[0m\u001b[1;33m\u001b[0m\u001b[0m\n",
      "\u001b[1;32m~\\Anaconda3\\lib\\site-packages\\sklearn\\utils\\validation.py\u001b[0m in \u001b[0;36m_assert_all_finite\u001b[1;34m(X)\u001b[0m\n\u001b[0;32m     42\u001b[0m             and not np.isfinite(X).all()):\n\u001b[0;32m     43\u001b[0m         raise ValueError(\"Input contains NaN, infinity\"\n\u001b[1;32m---> 44\u001b[1;33m                          \" or a value too large for %r.\" % X.dtype)\n\u001b[0m\u001b[0;32m     45\u001b[0m \u001b[1;33m\u001b[0m\u001b[0m\n\u001b[0;32m     46\u001b[0m \u001b[1;33m\u001b[0m\u001b[0m\n",
      "\u001b[1;31mValueError\u001b[0m: Input contains NaN, infinity or a value too large for dtype('float64')."
     ]
    }
   ],
   "source": [
    "GBDT_predict=GBDT.predict(X_test)\n",
    "mean_squared_log_error(GBDT_predict, y_test)"
   ]
  },
  {
   "cell_type": "markdown",
   "metadata": {},
   "source": [
    "### training set"
   ]
  },
  {
   "cell_type": "code",
   "execution_count": 114,
   "metadata": {},
   "outputs": [
    {
     "data": {
      "text/plain": [
       "1.5713683343970284"
      ]
     },
     "execution_count": 114,
     "metadata": {},
     "output_type": "execute_result"
    }
   ],
   "source": [
    "GBDT_vaild = GBDT.predict(vaild_X)\n",
    "mean_squared_log_error(GBDT_vaild, vaild_Y)"
   ]
  },
  {
   "cell_type": "code",
   "execution_count": null,
   "metadata": {},
   "outputs": [],
   "source": []
  }
 ],
 "metadata": {
  "kernelspec": {
   "display_name": "Python 3",
   "language": "python",
   "name": "python3"
  },
  "language_info": {
   "codemirror_mode": {
    "name": "ipython",
    "version": 3
   },
   "file_extension": ".py",
   "mimetype": "text/x-python",
   "name": "python",
   "nbconvert_exporter": "python",
   "pygments_lexer": "ipython3",
   "version": "3.6.4"
  }
 },
 "nbformat": 4,
 "nbformat_minor": 2
}
