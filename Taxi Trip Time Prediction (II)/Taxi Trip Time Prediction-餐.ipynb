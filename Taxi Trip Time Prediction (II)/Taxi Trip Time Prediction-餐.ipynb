{
 "cells": [
  {
   "cell_type": "code",
   "execution_count": 5,
   "metadata": {},
   "outputs": [],
   "source": [
    "import numpy as np\n",
    "import pandas as pd\n",
    "import json\n",
    "from math import radians, cos, sin, asin, sqrt"
   ]
  },
  {
   "cell_type": "code",
   "execution_count": 6,
   "metadata": {},
   "outputs": [],
   "source": [
    "def haversine(lon1, lat1, lon2, lat2): # 经度1，纬度1，经度2，纬度2 （十进制度数）\n",
    "    \"\"\"\n",
    "    Calculate the great circle distance between two points \n",
    "    on the earth (specified in decimal degrees)\n",
    "    \"\"\"\n",
    "    # 将十进制度数转化为弧度\n",
    "    lon1, lat1, lon2, lat2 = map(radians, [lon1, lat1, lon2, lat2])\n",
    " \n",
    "    # haversine公式\n",
    "    dlon = lon2 - lon1 \n",
    "    dlat = lat2 - lat1 \n",
    "    a = sin(dlat/2)**2 + cos(lat1) * cos(lat2) * sin(dlon/2)**2\n",
    "    c = 2 * asin(sqrt(a)) \n",
    "    r = 6371 # 地球平均半径，单位为公里\n",
    "    return c * r * 1000"
   ]
  },
  {
   "cell_type": "markdown",
   "metadata": {},
   "source": [
    "# train"
   ]
  },
  {
   "cell_type": "code",
   "execution_count": 7,
   "metadata": {},
   "outputs": [],
   "source": [
    "df = pd.read_csv('train.csv')"
   ]
  },
  {
   "cell_type": "code",
   "execution_count": 4,
   "metadata": {},
   "outputs": [
    {
     "data": {
      "text/plain": [
       "(1710670, 9)"
      ]
     },
     "execution_count": 4,
     "metadata": {},
     "output_type": "execute_result"
    }
   ],
   "source": [
    "df.shape"
   ]
  },
  {
   "cell_type": "code",
   "execution_count": 10,
   "metadata": {},
   "outputs": [
    {
     "data": {
      "text/plain": [
       "(5901, 9)"
      ]
     },
     "execution_count": 10,
     "metadata": {},
     "output_type": "execute_result"
    }
   ],
   "source": [
    "df[df['POLYLINE'] == '[]'].shape"
   ]
  },
  {
   "cell_type": "code",
   "execution_count": 3,
   "metadata": {},
   "outputs": [],
   "source": [
    "df = df[df['MISSING_DATA'] == False]\n",
    "df[df['POLYLINE'] != '[]']"
   ]
  },
  {
   "cell_type": "code",
   "execution_count": 4,
   "metadata": {},
   "outputs": [
    {
     "name": "stdout",
     "output_type": "stream",
     "text": [
      "<class 'pandas.core.frame.DataFrame'>\n",
      "Int64Index: 1704759 entries, 0 to 1710669\n",
      "Data columns (total 9 columns):\n",
      "TRIP_ID         int64\n",
      "CALL_TYPE       object\n",
      "ORIGIN_CALL     float64\n",
      "ORIGIN_STAND    float64\n",
      "TAXI_ID         int64\n",
      "TIMESTAMP       int64\n",
      "DAY_TYPE        object\n",
      "MISSING_DATA    bool\n",
      "POLYLINE        object\n",
      "dtypes: bool(1), float64(2), int64(3), object(3)\n",
      "memory usage: 118.7+ MB\n"
     ]
    }
   ],
   "source": [
    "df.info()"
   ]
  },
  {
   "cell_type": "code",
   "execution_count": 5,
   "metadata": {},
   "outputs": [
    {
     "data": {
      "text/html": [
       "<div>\n",
       "<style scoped>\n",
       "    .dataframe tbody tr th:only-of-type {\n",
       "        vertical-align: middle;\n",
       "    }\n",
       "\n",
       "    .dataframe tbody tr th {\n",
       "        vertical-align: top;\n",
       "    }\n",
       "\n",
       "    .dataframe thead th {\n",
       "        text-align: right;\n",
       "    }\n",
       "</style>\n",
       "<table border=\"1\" class=\"dataframe\">\n",
       "  <thead>\n",
       "    <tr style=\"text-align: right;\">\n",
       "      <th></th>\n",
       "      <th>TRIP_ID</th>\n",
       "      <th>CALL_TYPE</th>\n",
       "      <th>ORIGIN_CALL</th>\n",
       "      <th>ORIGIN_STAND</th>\n",
       "      <th>TAXI_ID</th>\n",
       "      <th>TIMESTAMP</th>\n",
       "      <th>DAY_TYPE</th>\n",
       "      <th>MISSING_DATA</th>\n",
       "      <th>POLYLINE</th>\n",
       "    </tr>\n",
       "  </thead>\n",
       "  <tbody>\n",
       "    <tr>\n",
       "      <th>0</th>\n",
       "      <td>1372636858620000589</td>\n",
       "      <td>C</td>\n",
       "      <td>NaN</td>\n",
       "      <td>NaN</td>\n",
       "      <td>20000589</td>\n",
       "      <td>1372636858</td>\n",
       "      <td>A</td>\n",
       "      <td>False</td>\n",
       "      <td>[[-8.618643,41.141412],[-8.618499,41.141376],[...</td>\n",
       "    </tr>\n",
       "    <tr>\n",
       "      <th>1</th>\n",
       "      <td>1372637303620000596</td>\n",
       "      <td>B</td>\n",
       "      <td>NaN</td>\n",
       "      <td>7.0</td>\n",
       "      <td>20000596</td>\n",
       "      <td>1372637303</td>\n",
       "      <td>A</td>\n",
       "      <td>False</td>\n",
       "      <td>[[-8.639847,41.159826],[-8.640351,41.159871],[...</td>\n",
       "    </tr>\n",
       "    <tr>\n",
       "      <th>2</th>\n",
       "      <td>1372636951620000320</td>\n",
       "      <td>C</td>\n",
       "      <td>NaN</td>\n",
       "      <td>NaN</td>\n",
       "      <td>20000320</td>\n",
       "      <td>1372636951</td>\n",
       "      <td>A</td>\n",
       "      <td>False</td>\n",
       "      <td>[[-8.612964,41.140359],[-8.613378,41.14035],[-...</td>\n",
       "    </tr>\n",
       "  </tbody>\n",
       "</table>\n",
       "</div>"
      ],
      "text/plain": [
       "               TRIP_ID CALL_TYPE  ORIGIN_CALL  ORIGIN_STAND   TAXI_ID  \\\n",
       "0  1372636858620000589         C          NaN           NaN  20000589   \n",
       "1  1372637303620000596         B          NaN           7.0  20000596   \n",
       "2  1372636951620000320         C          NaN           NaN  20000320   \n",
       "\n",
       "    TIMESTAMP DAY_TYPE  MISSING_DATA  \\\n",
       "0  1372636858        A         False   \n",
       "1  1372637303        A         False   \n",
       "2  1372636951        A         False   \n",
       "\n",
       "                                            POLYLINE  \n",
       "0  [[-8.618643,41.141412],[-8.618499,41.141376],[...  \n",
       "1  [[-8.639847,41.159826],[-8.640351,41.159871],[...  \n",
       "2  [[-8.612964,41.140359],[-8.613378,41.14035],[-...  "
      ]
     },
     "execution_count": 5,
     "metadata": {},
     "output_type": "execute_result"
    }
   ],
   "source": [
    "df.head(3)"
   ]
  },
  {
   "cell_type": "code",
   "execution_count": 6,
   "metadata": {},
   "outputs": [],
   "source": [
    "df['POLYLINE'] = df['POLYLINE'].apply(json.loads)\n",
    "df['duration'] = ((df['POLYLINE'].apply(len))-1)*15"
   ]
  },
  {
   "cell_type": "code",
   "execution_count": 13,
   "metadata": {},
   "outputs": [],
   "source": [
    "df = df.reset_index()"
   ]
  },
  {
   "cell_type": "code",
   "execution_count": 14,
   "metadata": {},
   "outputs": [
    {
     "data": {
      "text/plain": [
       "1704759"
      ]
     },
     "execution_count": 14,
     "metadata": {},
     "output_type": "execute_result"
    }
   ],
   "source": [
    "df.shape[0]"
   ]
  },
  {
   "cell_type": "code",
   "execution_count": 15,
   "metadata": {},
   "outputs": [],
   "source": [
    "start = []\n",
    "destination = []\n",
    "for i in range(df.shape[0]):\n",
    "    start.append(df['POLYLINE'][i][0])\n",
    "    destination.append(df['POLYLINE'][i][-1])\n",
    "df['start'] = start    \n",
    "df['destination'] = destination"
   ]
  },
  {
   "cell_type": "code",
   "execution_count": 16,
   "metadata": {},
   "outputs": [
    {
     "data": {
      "text/html": [
       "<div>\n",
       "<style scoped>\n",
       "    .dataframe tbody tr th:only-of-type {\n",
       "        vertical-align: middle;\n",
       "    }\n",
       "\n",
       "    .dataframe tbody tr th {\n",
       "        vertical-align: top;\n",
       "    }\n",
       "\n",
       "    .dataframe thead th {\n",
       "        text-align: right;\n",
       "    }\n",
       "</style>\n",
       "<table border=\"1\" class=\"dataframe\">\n",
       "  <thead>\n",
       "    <tr style=\"text-align: right;\">\n",
       "      <th></th>\n",
       "      <th>index</th>\n",
       "      <th>TRIP_ID</th>\n",
       "      <th>CALL_TYPE</th>\n",
       "      <th>ORIGIN_CALL</th>\n",
       "      <th>ORIGIN_STAND</th>\n",
       "      <th>TAXI_ID</th>\n",
       "      <th>TIMESTAMP</th>\n",
       "      <th>DAY_TYPE</th>\n",
       "      <th>MISSING_DATA</th>\n",
       "      <th>POLYLINE</th>\n",
       "      <th>duration</th>\n",
       "      <th>start</th>\n",
       "      <th>destination</th>\n",
       "    </tr>\n",
       "  </thead>\n",
       "  <tbody>\n",
       "    <tr>\n",
       "      <th>0</th>\n",
       "      <td>0</td>\n",
       "      <td>1372636858620000589</td>\n",
       "      <td>C</td>\n",
       "      <td>NaN</td>\n",
       "      <td>NaN</td>\n",
       "      <td>20000589</td>\n",
       "      <td>1372636858</td>\n",
       "      <td>A</td>\n",
       "      <td>False</td>\n",
       "      <td>[[-8.618643, 41.141412], [-8.618499, 41.141376...</td>\n",
       "      <td>330</td>\n",
       "      <td>[-8.618643, 41.141412]</td>\n",
       "      <td>[-8.630838, 41.154489]</td>\n",
       "    </tr>\n",
       "    <tr>\n",
       "      <th>1</th>\n",
       "      <td>1</td>\n",
       "      <td>1372637303620000596</td>\n",
       "      <td>B</td>\n",
       "      <td>NaN</td>\n",
       "      <td>7.0</td>\n",
       "      <td>20000596</td>\n",
       "      <td>1372637303</td>\n",
       "      <td>A</td>\n",
       "      <td>False</td>\n",
       "      <td>[[-8.639847, 41.159826], [-8.640351, 41.159871...</td>\n",
       "      <td>270</td>\n",
       "      <td>[-8.639847, 41.159826]</td>\n",
       "      <td>[-8.66574, 41.170671]</td>\n",
       "    </tr>\n",
       "    <tr>\n",
       "      <th>2</th>\n",
       "      <td>2</td>\n",
       "      <td>1372636951620000320</td>\n",
       "      <td>C</td>\n",
       "      <td>NaN</td>\n",
       "      <td>NaN</td>\n",
       "      <td>20000320</td>\n",
       "      <td>1372636951</td>\n",
       "      <td>A</td>\n",
       "      <td>False</td>\n",
       "      <td>[[-8.612964, 41.140359], [-8.613378, 41.14035]...</td>\n",
       "      <td>960</td>\n",
       "      <td>[-8.612964, 41.140359]</td>\n",
       "      <td>[-8.61597, 41.14053]</td>\n",
       "    </tr>\n",
       "    <tr>\n",
       "      <th>3</th>\n",
       "      <td>3</td>\n",
       "      <td>1372636854620000520</td>\n",
       "      <td>C</td>\n",
       "      <td>NaN</td>\n",
       "      <td>NaN</td>\n",
       "      <td>20000520</td>\n",
       "      <td>1372636854</td>\n",
       "      <td>A</td>\n",
       "      <td>False</td>\n",
       "      <td>[[-8.574678, 41.151951], [-8.574705, 41.151942...</td>\n",
       "      <td>630</td>\n",
       "      <td>[-8.574678, 41.151951]</td>\n",
       "      <td>[-8.607996, 41.142915]</td>\n",
       "    </tr>\n",
       "    <tr>\n",
       "      <th>4</th>\n",
       "      <td>4</td>\n",
       "      <td>1372637091620000337</td>\n",
       "      <td>C</td>\n",
       "      <td>NaN</td>\n",
       "      <td>NaN</td>\n",
       "      <td>20000337</td>\n",
       "      <td>1372637091</td>\n",
       "      <td>A</td>\n",
       "      <td>False</td>\n",
       "      <td>[[-8.645994, 41.18049], [-8.645949, 41.180517]...</td>\n",
       "      <td>420</td>\n",
       "      <td>[-8.645994, 41.18049]</td>\n",
       "      <td>[-8.687268, 41.178087]</td>\n",
       "    </tr>\n",
       "  </tbody>\n",
       "</table>\n",
       "</div>"
      ],
      "text/plain": [
       "   index              TRIP_ID CALL_TYPE  ORIGIN_CALL  ORIGIN_STAND   TAXI_ID  \\\n",
       "0      0  1372636858620000589         C          NaN           NaN  20000589   \n",
       "1      1  1372637303620000596         B          NaN           7.0  20000596   \n",
       "2      2  1372636951620000320         C          NaN           NaN  20000320   \n",
       "3      3  1372636854620000520         C          NaN           NaN  20000520   \n",
       "4      4  1372637091620000337         C          NaN           NaN  20000337   \n",
       "\n",
       "    TIMESTAMP DAY_TYPE  MISSING_DATA  \\\n",
       "0  1372636858        A         False   \n",
       "1  1372637303        A         False   \n",
       "2  1372636951        A         False   \n",
       "3  1372636854        A         False   \n",
       "4  1372637091        A         False   \n",
       "\n",
       "                                            POLYLINE  duration  \\\n",
       "0  [[-8.618643, 41.141412], [-8.618499, 41.141376...       330   \n",
       "1  [[-8.639847, 41.159826], [-8.640351, 41.159871...       270   \n",
       "2  [[-8.612964, 41.140359], [-8.613378, 41.14035]...       960   \n",
       "3  [[-8.574678, 41.151951], [-8.574705, 41.151942...       630   \n",
       "4  [[-8.645994, 41.18049], [-8.645949, 41.180517]...       420   \n",
       "\n",
       "                    start             destination  \n",
       "0  [-8.618643, 41.141412]  [-8.630838, 41.154489]  \n",
       "1  [-8.639847, 41.159826]   [-8.66574, 41.170671]  \n",
       "2  [-8.612964, 41.140359]    [-8.61597, 41.14053]  \n",
       "3  [-8.574678, 41.151951]  [-8.607996, 41.142915]  \n",
       "4   [-8.645994, 41.18049]  [-8.687268, 41.178087]  "
      ]
     },
     "execution_count": 16,
     "metadata": {},
     "output_type": "execute_result"
    }
   ],
   "source": [
    "df.head()"
   ]
  },
  {
   "cell_type": "code",
   "execution_count": 24,
   "metadata": {},
   "outputs": [
    {
     "data": {
      "text/plain": [
       "(1704759, 13)"
      ]
     },
     "execution_count": 24,
     "metadata": {},
     "output_type": "execute_result"
    }
   ],
   "source": [
    "df.shape"
   ]
  },
  {
   "cell_type": "code",
   "execution_count": 22,
   "metadata": {},
   "outputs": [],
   "source": [
    "havers = []\n",
    "for i in range(df.shape[0]):\n",
    "    havers.append(haversine(df['start'][i][0], df['start'][i][1], df['destination'][i][0], df['destination'][i][1])) \n",
    "df['haversine'] = havers    "
   ]
  },
  {
   "cell_type": "markdown",
   "metadata": {},
   "source": [
    "# 整理好的檔案"
   ]
  },
  {
   "cell_type": "code",
   "execution_count": 26,
   "metadata": {},
   "outputs": [
    {
     "data": {
      "text/html": [
       "<div>\n",
       "<style scoped>\n",
       "    .dataframe tbody tr th:only-of-type {\n",
       "        vertical-align: middle;\n",
       "    }\n",
       "\n",
       "    .dataframe tbody tr th {\n",
       "        vertical-align: top;\n",
       "    }\n",
       "\n",
       "    .dataframe thead th {\n",
       "        text-align: right;\n",
       "    }\n",
       "</style>\n",
       "<table border=\"1\" class=\"dataframe\">\n",
       "  <thead>\n",
       "    <tr style=\"text-align: right;\">\n",
       "      <th></th>\n",
       "      <th>index</th>\n",
       "      <th>TRIP_ID</th>\n",
       "      <th>CALL_TYPE</th>\n",
       "      <th>ORIGIN_CALL</th>\n",
       "      <th>ORIGIN_STAND</th>\n",
       "      <th>TAXI_ID</th>\n",
       "      <th>TIMESTAMP</th>\n",
       "      <th>DAY_TYPE</th>\n",
       "      <th>MISSING_DATA</th>\n",
       "      <th>POLYLINE</th>\n",
       "      <th>duration</th>\n",
       "      <th>start</th>\n",
       "      <th>destination</th>\n",
       "      <th>haversine</th>\n",
       "    </tr>\n",
       "  </thead>\n",
       "  <tbody>\n",
       "    <tr>\n",
       "      <th>0</th>\n",
       "      <td>0</td>\n",
       "      <td>1372636858620000589</td>\n",
       "      <td>C</td>\n",
       "      <td>NaN</td>\n",
       "      <td>NaN</td>\n",
       "      <td>20000589</td>\n",
       "      <td>1372636858</td>\n",
       "      <td>A</td>\n",
       "      <td>False</td>\n",
       "      <td>[[-8.618643, 41.141412], [-8.618499, 41.141376...</td>\n",
       "      <td>330</td>\n",
       "      <td>[-8.618643, 41.141412]</td>\n",
       "      <td>[-8.630838, 41.154489]</td>\n",
       "      <td>1776.807571</td>\n",
       "    </tr>\n",
       "    <tr>\n",
       "      <th>1</th>\n",
       "      <td>1</td>\n",
       "      <td>1372637303620000596</td>\n",
       "      <td>B</td>\n",
       "      <td>NaN</td>\n",
       "      <td>7.0</td>\n",
       "      <td>20000596</td>\n",
       "      <td>1372637303</td>\n",
       "      <td>A</td>\n",
       "      <td>False</td>\n",
       "      <td>[[-8.639847, 41.159826], [-8.640351, 41.159871...</td>\n",
       "      <td>270</td>\n",
       "      <td>[-8.639847, 41.159826]</td>\n",
       "      <td>[-8.66574, 41.170671]</td>\n",
       "      <td>2480.360461</td>\n",
       "    </tr>\n",
       "    <tr>\n",
       "      <th>2</th>\n",
       "      <td>2</td>\n",
       "      <td>1372636951620000320</td>\n",
       "      <td>C</td>\n",
       "      <td>NaN</td>\n",
       "      <td>NaN</td>\n",
       "      <td>20000320</td>\n",
       "      <td>1372636951</td>\n",
       "      <td>A</td>\n",
       "      <td>False</td>\n",
       "      <td>[[-8.612964, 41.140359], [-8.613378, 41.14035]...</td>\n",
       "      <td>960</td>\n",
       "      <td>[-8.612964, 41.140359]</td>\n",
       "      <td>[-8.61597, 41.14053]</td>\n",
       "      <td>252.441979</td>\n",
       "    </tr>\n",
       "    <tr>\n",
       "      <th>3</th>\n",
       "      <td>3</td>\n",
       "      <td>1372636854620000520</td>\n",
       "      <td>C</td>\n",
       "      <td>NaN</td>\n",
       "      <td>NaN</td>\n",
       "      <td>20000520</td>\n",
       "      <td>1372636854</td>\n",
       "      <td>A</td>\n",
       "      <td>False</td>\n",
       "      <td>[[-8.574678, 41.151951], [-8.574705, 41.151942...</td>\n",
       "      <td>630</td>\n",
       "      <td>[-8.574678, 41.151951]</td>\n",
       "      <td>[-8.607996, 41.142915]</td>\n",
       "      <td>2965.198721</td>\n",
       "    </tr>\n",
       "    <tr>\n",
       "      <th>4</th>\n",
       "      <td>4</td>\n",
       "      <td>1372637091620000337</td>\n",
       "      <td>C</td>\n",
       "      <td>NaN</td>\n",
       "      <td>NaN</td>\n",
       "      <td>20000337</td>\n",
       "      <td>1372637091</td>\n",
       "      <td>A</td>\n",
       "      <td>False</td>\n",
       "      <td>[[-8.645994, 41.18049], [-8.645949, 41.180517]...</td>\n",
       "      <td>420</td>\n",
       "      <td>[-8.645994, 41.18049]</td>\n",
       "      <td>[-8.687268, 41.178087]</td>\n",
       "      <td>3464.589323</td>\n",
       "    </tr>\n",
       "  </tbody>\n",
       "</table>\n",
       "</div>"
      ],
      "text/plain": [
       "   index              TRIP_ID CALL_TYPE  ORIGIN_CALL  ORIGIN_STAND   TAXI_ID  \\\n",
       "0      0  1372636858620000589         C          NaN           NaN  20000589   \n",
       "1      1  1372637303620000596         B          NaN           7.0  20000596   \n",
       "2      2  1372636951620000320         C          NaN           NaN  20000320   \n",
       "3      3  1372636854620000520         C          NaN           NaN  20000520   \n",
       "4      4  1372637091620000337         C          NaN           NaN  20000337   \n",
       "\n",
       "    TIMESTAMP DAY_TYPE  MISSING_DATA  \\\n",
       "0  1372636858        A         False   \n",
       "1  1372637303        A         False   \n",
       "2  1372636951        A         False   \n",
       "3  1372636854        A         False   \n",
       "4  1372637091        A         False   \n",
       "\n",
       "                                            POLYLINE  duration  \\\n",
       "0  [[-8.618643, 41.141412], [-8.618499, 41.141376...       330   \n",
       "1  [[-8.639847, 41.159826], [-8.640351, 41.159871...       270   \n",
       "2  [[-8.612964, 41.140359], [-8.613378, 41.14035]...       960   \n",
       "3  [[-8.574678, 41.151951], [-8.574705, 41.151942...       630   \n",
       "4  [[-8.645994, 41.18049], [-8.645949, 41.180517]...       420   \n",
       "\n",
       "                    start             destination    haversine  \n",
       "0  [-8.618643, 41.141412]  [-8.630838, 41.154489]  1776.807571  \n",
       "1  [-8.639847, 41.159826]   [-8.66574, 41.170671]  2480.360461  \n",
       "2  [-8.612964, 41.140359]    [-8.61597, 41.14053]   252.441979  \n",
       "3  [-8.574678, 41.151951]  [-8.607996, 41.142915]  2965.198721  \n",
       "4   [-8.645994, 41.18049]  [-8.687268, 41.178087]  3464.589323  "
      ]
     },
     "execution_count": 26,
     "metadata": {},
     "output_type": "execute_result"
    }
   ],
   "source": [
    "df.head()"
   ]
  },
  {
   "cell_type": "markdown",
   "metadata": {},
   "source": [
    "# save txt"
   ]
  },
  {
   "cell_type": "code",
   "execution_count": 32,
   "metadata": {},
   "outputs": [],
   "source": [
    "df.to_csv(r'train.txt')"
   ]
  },
  {
   "cell_type": "code",
   "execution_count": 33,
   "metadata": {},
   "outputs": [],
   "source": [
    "textdf = pd.read_csv('train.txt')"
   ]
  },
  {
   "cell_type": "code",
   "execution_count": 34,
   "metadata": {},
   "outputs": [
    {
     "data": {
      "text/html": [
       "<div>\n",
       "<style scoped>\n",
       "    .dataframe tbody tr th:only-of-type {\n",
       "        vertical-align: middle;\n",
       "    }\n",
       "\n",
       "    .dataframe tbody tr th {\n",
       "        vertical-align: top;\n",
       "    }\n",
       "\n",
       "    .dataframe thead th {\n",
       "        text-align: right;\n",
       "    }\n",
       "</style>\n",
       "<table border=\"1\" class=\"dataframe\">\n",
       "  <thead>\n",
       "    <tr style=\"text-align: right;\">\n",
       "      <th></th>\n",
       "      <th>Unnamed: 0</th>\n",
       "      <th>index</th>\n",
       "      <th>TRIP_ID</th>\n",
       "      <th>CALL_TYPE</th>\n",
       "      <th>ORIGIN_CALL</th>\n",
       "      <th>ORIGIN_STAND</th>\n",
       "      <th>TAXI_ID</th>\n",
       "      <th>TIMESTAMP</th>\n",
       "      <th>DAY_TYPE</th>\n",
       "      <th>MISSING_DATA</th>\n",
       "      <th>POLYLINE</th>\n",
       "      <th>duration</th>\n",
       "      <th>start</th>\n",
       "      <th>destination</th>\n",
       "      <th>haversine</th>\n",
       "    </tr>\n",
       "  </thead>\n",
       "  <tbody>\n",
       "    <tr>\n",
       "      <th>0</th>\n",
       "      <td>0</td>\n",
       "      <td>0</td>\n",
       "      <td>1372636858620000589</td>\n",
       "      <td>C</td>\n",
       "      <td>NaN</td>\n",
       "      <td>NaN</td>\n",
       "      <td>20000589</td>\n",
       "      <td>1372636858</td>\n",
       "      <td>A</td>\n",
       "      <td>False</td>\n",
       "      <td>[[-8.618643, 41.141412], [-8.618499, 41.141376...</td>\n",
       "      <td>330</td>\n",
       "      <td>[-8.618643, 41.141412]</td>\n",
       "      <td>[-8.630838, 41.154489]</td>\n",
       "      <td>1776.807571</td>\n",
       "    </tr>\n",
       "    <tr>\n",
       "      <th>1</th>\n",
       "      <td>1</td>\n",
       "      <td>1</td>\n",
       "      <td>1372637303620000596</td>\n",
       "      <td>B</td>\n",
       "      <td>NaN</td>\n",
       "      <td>7.0</td>\n",
       "      <td>20000596</td>\n",
       "      <td>1372637303</td>\n",
       "      <td>A</td>\n",
       "      <td>False</td>\n",
       "      <td>[[-8.639847, 41.159826], [-8.640351, 41.159871...</td>\n",
       "      <td>270</td>\n",
       "      <td>[-8.639847, 41.159826]</td>\n",
       "      <td>[-8.66574, 41.170671]</td>\n",
       "      <td>2480.360461</td>\n",
       "    </tr>\n",
       "    <tr>\n",
       "      <th>2</th>\n",
       "      <td>2</td>\n",
       "      <td>2</td>\n",
       "      <td>1372636951620000320</td>\n",
       "      <td>C</td>\n",
       "      <td>NaN</td>\n",
       "      <td>NaN</td>\n",
       "      <td>20000320</td>\n",
       "      <td>1372636951</td>\n",
       "      <td>A</td>\n",
       "      <td>False</td>\n",
       "      <td>[[-8.612964, 41.140359], [-8.613378, 41.14035]...</td>\n",
       "      <td>960</td>\n",
       "      <td>[-8.612964, 41.140359]</td>\n",
       "      <td>[-8.61597, 41.14053]</td>\n",
       "      <td>252.441979</td>\n",
       "    </tr>\n",
       "    <tr>\n",
       "      <th>3</th>\n",
       "      <td>3</td>\n",
       "      <td>3</td>\n",
       "      <td>1372636854620000520</td>\n",
       "      <td>C</td>\n",
       "      <td>NaN</td>\n",
       "      <td>NaN</td>\n",
       "      <td>20000520</td>\n",
       "      <td>1372636854</td>\n",
       "      <td>A</td>\n",
       "      <td>False</td>\n",
       "      <td>[[-8.574678, 41.151951], [-8.574705, 41.151942...</td>\n",
       "      <td>630</td>\n",
       "      <td>[-8.574678, 41.151951]</td>\n",
       "      <td>[-8.607996, 41.142915]</td>\n",
       "      <td>2965.198721</td>\n",
       "    </tr>\n",
       "    <tr>\n",
       "      <th>4</th>\n",
       "      <td>4</td>\n",
       "      <td>4</td>\n",
       "      <td>1372637091620000337</td>\n",
       "      <td>C</td>\n",
       "      <td>NaN</td>\n",
       "      <td>NaN</td>\n",
       "      <td>20000337</td>\n",
       "      <td>1372637091</td>\n",
       "      <td>A</td>\n",
       "      <td>False</td>\n",
       "      <td>[[-8.645994, 41.18049], [-8.645949, 41.180517]...</td>\n",
       "      <td>420</td>\n",
       "      <td>[-8.645994, 41.18049]</td>\n",
       "      <td>[-8.687268, 41.178087]</td>\n",
       "      <td>3464.589323</td>\n",
       "    </tr>\n",
       "  </tbody>\n",
       "</table>\n",
       "</div>"
      ],
      "text/plain": [
       "   Unnamed: 0  index              TRIP_ID CALL_TYPE  ORIGIN_CALL  \\\n",
       "0           0      0  1372636858620000589         C          NaN   \n",
       "1           1      1  1372637303620000596         B          NaN   \n",
       "2           2      2  1372636951620000320         C          NaN   \n",
       "3           3      3  1372636854620000520         C          NaN   \n",
       "4           4      4  1372637091620000337         C          NaN   \n",
       "\n",
       "   ORIGIN_STAND   TAXI_ID   TIMESTAMP DAY_TYPE  MISSING_DATA  \\\n",
       "0           NaN  20000589  1372636858        A         False   \n",
       "1           7.0  20000596  1372637303        A         False   \n",
       "2           NaN  20000320  1372636951        A         False   \n",
       "3           NaN  20000520  1372636854        A         False   \n",
       "4           NaN  20000337  1372637091        A         False   \n",
       "\n",
       "                                            POLYLINE  duration  \\\n",
       "0  [[-8.618643, 41.141412], [-8.618499, 41.141376...       330   \n",
       "1  [[-8.639847, 41.159826], [-8.640351, 41.159871...       270   \n",
       "2  [[-8.612964, 41.140359], [-8.613378, 41.14035]...       960   \n",
       "3  [[-8.574678, 41.151951], [-8.574705, 41.151942...       630   \n",
       "4  [[-8.645994, 41.18049], [-8.645949, 41.180517]...       420   \n",
       "\n",
       "                    start             destination    haversine  \n",
       "0  [-8.618643, 41.141412]  [-8.630838, 41.154489]  1776.807571  \n",
       "1  [-8.639847, 41.159826]   [-8.66574, 41.170671]  2480.360461  \n",
       "2  [-8.612964, 41.140359]    [-8.61597, 41.14053]   252.441979  \n",
       "3  [-8.574678, 41.151951]  [-8.607996, 41.142915]  2965.198721  \n",
       "4   [-8.645994, 41.18049]  [-8.687268, 41.178087]  3464.589323  "
      ]
     },
     "execution_count": 34,
     "metadata": {},
     "output_type": "execute_result"
    }
   ],
   "source": [
    "textdf.head()"
   ]
  },
  {
   "cell_type": "raw",
   "metadata": {
    "collapsed": true
   },
   "source": [
    "pd.value_counts(df['POLYLINE'].values, sort=False)"
   ]
  },
  {
   "cell_type": "markdown",
   "metadata": {},
   "source": [
    "# test"
   ]
  },
  {
   "cell_type": "code",
   "execution_count": 20,
   "metadata": {},
   "outputs": [],
   "source": [
    "test = pd.read_csv('test.csv')\n",
    "op1 = pd.read_csv('output1.csv')"
   ]
  },
  {
   "cell_type": "code",
   "execution_count": 21,
   "metadata": {},
   "outputs": [
    {
     "data": {
      "text/plain": [
       "str"
      ]
     },
     "execution_count": 21,
     "metadata": {},
     "output_type": "execute_result"
    }
   ],
   "source": [
    "type(test.POLYLINE[0])"
   ]
  },
  {
   "cell_type": "code",
   "execution_count": 22,
   "metadata": {},
   "outputs": [],
   "source": [
    "test['POLYLINE'] = test['POLYLINE'].apply(json.loads)\n",
    "test['duration'] = ((test['POLYLINE'].apply(len))-1)*15"
   ]
  },
  {
   "cell_type": "code",
   "execution_count": 28,
   "metadata": {},
   "outputs": [
    {
     "data": {
      "text/html": [
       "<div>\n",
       "<style scoped>\n",
       "    .dataframe tbody tr th:only-of-type {\n",
       "        vertical-align: middle;\n",
       "    }\n",
       "\n",
       "    .dataframe tbody tr th {\n",
       "        vertical-align: top;\n",
       "    }\n",
       "\n",
       "    .dataframe thead th {\n",
       "        text-align: right;\n",
       "    }\n",
       "</style>\n",
       "<table border=\"1\" class=\"dataframe\">\n",
       "  <thead>\n",
       "    <tr style=\"text-align: right;\">\n",
       "      <th></th>\n",
       "      <th>TRIP_ID</th>\n",
       "      <th>CALL_TYPE</th>\n",
       "      <th>ORIGIN_CALL</th>\n",
       "      <th>ORIGIN_STAND</th>\n",
       "      <th>TAXI_ID</th>\n",
       "      <th>TIMESTAMP</th>\n",
       "      <th>DAY_TYPE</th>\n",
       "      <th>MISSING_DATA</th>\n",
       "      <th>POLYLINE</th>\n",
       "      <th>duration</th>\n",
       "    </tr>\n",
       "  </thead>\n",
       "  <tbody>\n",
       "    <tr>\n",
       "      <th>0</th>\n",
       "      <td>T1</td>\n",
       "      <td>B</td>\n",
       "      <td>NaN</td>\n",
       "      <td>15.0</td>\n",
       "      <td>20000542</td>\n",
       "      <td>1408039037</td>\n",
       "      <td>A</td>\n",
       "      <td>False</td>\n",
       "      <td>[[-8.585676, 41.148522], [-8.585712, 41.148639...</td>\n",
       "      <td>150</td>\n",
       "    </tr>\n",
       "    <tr>\n",
       "      <th>1</th>\n",
       "      <td>T2</td>\n",
       "      <td>B</td>\n",
       "      <td>NaN</td>\n",
       "      <td>57.0</td>\n",
       "      <td>20000108</td>\n",
       "      <td>1408038611</td>\n",
       "      <td>A</td>\n",
       "      <td>False</td>\n",
       "      <td>[[-8.610876, 41.14557], [-8.610858, 41.145579]...</td>\n",
       "      <td>585</td>\n",
       "    </tr>\n",
       "    <tr>\n",
       "      <th>2</th>\n",
       "      <td>T3</td>\n",
       "      <td>B</td>\n",
       "      <td>NaN</td>\n",
       "      <td>15.0</td>\n",
       "      <td>20000370</td>\n",
       "      <td>1408038568</td>\n",
       "      <td>A</td>\n",
       "      <td>False</td>\n",
       "      <td>[[-8.585739, 41.148558], [-8.58573, 41.148828]...</td>\n",
       "      <td>585</td>\n",
       "    </tr>\n",
       "    <tr>\n",
       "      <th>3</th>\n",
       "      <td>T4</td>\n",
       "      <td>B</td>\n",
       "      <td>NaN</td>\n",
       "      <td>53.0</td>\n",
       "      <td>20000492</td>\n",
       "      <td>1408039090</td>\n",
       "      <td>A</td>\n",
       "      <td>False</td>\n",
       "      <td>[[-8.613963, 41.141169], [-8.614125, 41.141124...</td>\n",
       "      <td>105</td>\n",
       "    </tr>\n",
       "    <tr>\n",
       "      <th>4</th>\n",
       "      <td>T5</td>\n",
       "      <td>B</td>\n",
       "      <td>NaN</td>\n",
       "      <td>18.0</td>\n",
       "      <td>20000621</td>\n",
       "      <td>1408039177</td>\n",
       "      <td>A</td>\n",
       "      <td>False</td>\n",
       "      <td>[[-8.619903, 41.148036], [-8.619894, 41.148036]]</td>\n",
       "      <td>15</td>\n",
       "    </tr>\n",
       "  </tbody>\n",
       "</table>\n",
       "</div>"
      ],
      "text/plain": [
       "  TRIP_ID CALL_TYPE  ORIGIN_CALL  ORIGIN_STAND   TAXI_ID   TIMESTAMP DAY_TYPE  \\\n",
       "0      T1         B          NaN          15.0  20000542  1408039037        A   \n",
       "1      T2         B          NaN          57.0  20000108  1408038611        A   \n",
       "2      T3         B          NaN          15.0  20000370  1408038568        A   \n",
       "3      T4         B          NaN          53.0  20000492  1408039090        A   \n",
       "4      T5         B          NaN          18.0  20000621  1408039177        A   \n",
       "\n",
       "   MISSING_DATA                                           POLYLINE  duration  \n",
       "0         False  [[-8.585676, 41.148522], [-8.585712, 41.148639...       150  \n",
       "1         False  [[-8.610876, 41.14557], [-8.610858, 41.145579]...       585  \n",
       "2         False  [[-8.585739, 41.148558], [-8.58573, 41.148828]...       585  \n",
       "3         False  [[-8.613963, 41.141169], [-8.614125, 41.141124...       105  \n",
       "4         False   [[-8.619903, 41.148036], [-8.619894, 41.148036]]        15  "
      ]
     },
     "execution_count": 28,
     "metadata": {},
     "output_type": "execute_result"
    }
   ],
   "source": [
    "test.head()"
   ]
  },
  {
   "cell_type": "code",
   "execution_count": 34,
   "metadata": {},
   "outputs": [],
   "source": [
    "start = []\n",
    "destination = []\n",
    "for i in range(320):\n",
    "    start.append(test['POLYLINE'][i][0])\n",
    "    destination.append(test['POLYLINE'][i][-1])\n",
    "test['start'] = start    \n",
    "test['destination'] = destination"
   ]
  },
  {
   "cell_type": "code",
   "execution_count": 35,
   "metadata": {},
   "outputs": [
    {
     "data": {
      "text/html": [
       "<div>\n",
       "<style scoped>\n",
       "    .dataframe tbody tr th:only-of-type {\n",
       "        vertical-align: middle;\n",
       "    }\n",
       "\n",
       "    .dataframe tbody tr th {\n",
       "        vertical-align: top;\n",
       "    }\n",
       "\n",
       "    .dataframe thead th {\n",
       "        text-align: right;\n",
       "    }\n",
       "</style>\n",
       "<table border=\"1\" class=\"dataframe\">\n",
       "  <thead>\n",
       "    <tr style=\"text-align: right;\">\n",
       "      <th></th>\n",
       "      <th>TRIP_ID</th>\n",
       "      <th>CALL_TYPE</th>\n",
       "      <th>ORIGIN_CALL</th>\n",
       "      <th>ORIGIN_STAND</th>\n",
       "      <th>TAXI_ID</th>\n",
       "      <th>TIMESTAMP</th>\n",
       "      <th>DAY_TYPE</th>\n",
       "      <th>MISSING_DATA</th>\n",
       "      <th>POLYLINE</th>\n",
       "      <th>duration</th>\n",
       "      <th>start</th>\n",
       "      <th>destination</th>\n",
       "    </tr>\n",
       "  </thead>\n",
       "  <tbody>\n",
       "    <tr>\n",
       "      <th>0</th>\n",
       "      <td>T1</td>\n",
       "      <td>B</td>\n",
       "      <td>NaN</td>\n",
       "      <td>15.0</td>\n",
       "      <td>20000542</td>\n",
       "      <td>1408039037</td>\n",
       "      <td>A</td>\n",
       "      <td>False</td>\n",
       "      <td>[[-8.585676, 41.148522], [-8.585712, 41.148639...</td>\n",
       "      <td>150</td>\n",
       "      <td>[-8.585676, 41.148522]</td>\n",
       "      <td>[-8.584884, 41.146623]</td>\n",
       "    </tr>\n",
       "    <tr>\n",
       "      <th>1</th>\n",
       "      <td>T2</td>\n",
       "      <td>B</td>\n",
       "      <td>NaN</td>\n",
       "      <td>57.0</td>\n",
       "      <td>20000108</td>\n",
       "      <td>1408038611</td>\n",
       "      <td>A</td>\n",
       "      <td>False</td>\n",
       "      <td>[[-8.610876, 41.14557], [-8.610858, 41.145579]...</td>\n",
       "      <td>585</td>\n",
       "      <td>[-8.610876, 41.14557]</td>\n",
       "      <td>[-8.601894, 41.163597]</td>\n",
       "    </tr>\n",
       "    <tr>\n",
       "      <th>2</th>\n",
       "      <td>T3</td>\n",
       "      <td>B</td>\n",
       "      <td>NaN</td>\n",
       "      <td>15.0</td>\n",
       "      <td>20000370</td>\n",
       "      <td>1408038568</td>\n",
       "      <td>A</td>\n",
       "      <td>False</td>\n",
       "      <td>[[-8.585739, 41.148558], [-8.58573, 41.148828]...</td>\n",
       "      <td>585</td>\n",
       "      <td>[-8.585739, 41.148558]</td>\n",
       "      <td>[-8.574903, 41.167719]</td>\n",
       "    </tr>\n",
       "    <tr>\n",
       "      <th>3</th>\n",
       "      <td>T4</td>\n",
       "      <td>B</td>\n",
       "      <td>NaN</td>\n",
       "      <td>53.0</td>\n",
       "      <td>20000492</td>\n",
       "      <td>1408039090</td>\n",
       "      <td>A</td>\n",
       "      <td>False</td>\n",
       "      <td>[[-8.613963, 41.141169], [-8.614125, 41.141124...</td>\n",
       "      <td>105</td>\n",
       "      <td>[-8.613963, 41.141169]</td>\n",
       "      <td>[-8.614638, 41.14098]</td>\n",
       "    </tr>\n",
       "    <tr>\n",
       "      <th>4</th>\n",
       "      <td>T5</td>\n",
       "      <td>B</td>\n",
       "      <td>NaN</td>\n",
       "      <td>18.0</td>\n",
       "      <td>20000621</td>\n",
       "      <td>1408039177</td>\n",
       "      <td>A</td>\n",
       "      <td>False</td>\n",
       "      <td>[[-8.619903, 41.148036], [-8.619894, 41.148036]]</td>\n",
       "      <td>15</td>\n",
       "      <td>[-8.619903, 41.148036]</td>\n",
       "      <td>[-8.619894, 41.148036]</td>\n",
       "    </tr>\n",
       "  </tbody>\n",
       "</table>\n",
       "</div>"
      ],
      "text/plain": [
       "  TRIP_ID CALL_TYPE  ORIGIN_CALL  ORIGIN_STAND   TAXI_ID   TIMESTAMP DAY_TYPE  \\\n",
       "0      T1         B          NaN          15.0  20000542  1408039037        A   \n",
       "1      T2         B          NaN          57.0  20000108  1408038611        A   \n",
       "2      T3         B          NaN          15.0  20000370  1408038568        A   \n",
       "3      T4         B          NaN          53.0  20000492  1408039090        A   \n",
       "4      T5         B          NaN          18.0  20000621  1408039177        A   \n",
       "\n",
       "   MISSING_DATA                                           POLYLINE  duration  \\\n",
       "0         False  [[-8.585676, 41.148522], [-8.585712, 41.148639...       150   \n",
       "1         False  [[-8.610876, 41.14557], [-8.610858, 41.145579]...       585   \n",
       "2         False  [[-8.585739, 41.148558], [-8.58573, 41.148828]...       585   \n",
       "3         False  [[-8.613963, 41.141169], [-8.614125, 41.141124...       105   \n",
       "4         False   [[-8.619903, 41.148036], [-8.619894, 41.148036]]        15   \n",
       "\n",
       "                    start             destination  \n",
       "0  [-8.585676, 41.148522]  [-8.584884, 41.146623]  \n",
       "1   [-8.610876, 41.14557]  [-8.601894, 41.163597]  \n",
       "2  [-8.585739, 41.148558]  [-8.574903, 41.167719]  \n",
       "3  [-8.613963, 41.141169]   [-8.614638, 41.14098]  \n",
       "4  [-8.619903, 41.148036]  [-8.619894, 41.148036]  "
      ]
     },
     "execution_count": 35,
     "metadata": {},
     "output_type": "execute_result"
    }
   ],
   "source": [
    "test.head()"
   ]
  },
  {
   "cell_type": "code",
   "execution_count": 29,
   "metadata": {},
   "outputs": [
    {
     "data": {
      "text/plain": [
       "list"
      ]
     },
     "execution_count": 29,
     "metadata": {},
     "output_type": "execute_result"
    }
   ],
   "source": [
    "type(test.POLYLINE[0])"
   ]
  },
  {
   "cell_type": "code",
   "execution_count": 8,
   "metadata": {},
   "outputs": [
    {
     "data": {
      "text/html": [
       "<div>\n",
       "<style scoped>\n",
       "    .dataframe tbody tr th:only-of-type {\n",
       "        vertical-align: middle;\n",
       "    }\n",
       "\n",
       "    .dataframe tbody tr th {\n",
       "        vertical-align: top;\n",
       "    }\n",
       "\n",
       "    .dataframe thead th {\n",
       "        text-align: right;\n",
       "    }\n",
       "</style>\n",
       "<table border=\"1\" class=\"dataframe\">\n",
       "  <thead>\n",
       "    <tr style=\"text-align: right;\">\n",
       "      <th></th>\n",
       "      <th>datapoints</th>\n",
       "      <th>timeinterval</th>\n",
       "    </tr>\n",
       "  </thead>\n",
       "  <tbody>\n",
       "    <tr>\n",
       "      <th>0</th>\n",
       "      <td>11.0</td>\n",
       "      <td>165.0</td>\n",
       "    </tr>\n",
       "    <tr>\n",
       "      <th>1</th>\n",
       "      <td>40.0</td>\n",
       "      <td>600.0</td>\n",
       "    </tr>\n",
       "    <tr>\n",
       "      <th>2</th>\n",
       "      <td>40.0</td>\n",
       "      <td>600.0</td>\n",
       "    </tr>\n",
       "    <tr>\n",
       "      <th>3</th>\n",
       "      <td>8.0</td>\n",
       "      <td>120.0</td>\n",
       "    </tr>\n",
       "    <tr>\n",
       "      <th>4</th>\n",
       "      <td>2.0</td>\n",
       "      <td>30.0</td>\n",
       "    </tr>\n",
       "  </tbody>\n",
       "</table>\n",
       "</div>"
      ],
      "text/plain": [
       "   datapoints  timeinterval\n",
       "0        11.0         165.0\n",
       "1        40.0         600.0\n",
       "2        40.0         600.0\n",
       "3         8.0         120.0\n",
       "4         2.0          30.0"
      ]
     },
     "execution_count": 8,
     "metadata": {},
     "output_type": "execute_result"
    }
   ],
   "source": [
    "op1.head()"
   ]
  },
  {
   "cell_type": "markdown",
   "metadata": {},
   "source": [
    "# 8888"
   ]
  },
  {
   "cell_type": "code",
   "execution_count": 12,
   "metadata": {},
   "outputs": [],
   "source": [
    "df = df.drop(['ORIGIN_CALL', 'ORIGIN_STAND'], axis = 1).head()"
   ]
  },
  {
   "cell_type": "code",
   "execution_count": 13,
   "metadata": {},
   "outputs": [
    {
     "data": {
      "text/html": [
       "<div>\n",
       "<style scoped>\n",
       "    .dataframe tbody tr th:only-of-type {\n",
       "        vertical-align: middle;\n",
       "    }\n",
       "\n",
       "    .dataframe tbody tr th {\n",
       "        vertical-align: top;\n",
       "    }\n",
       "\n",
       "    .dataframe thead th {\n",
       "        text-align: right;\n",
       "    }\n",
       "</style>\n",
       "<table border=\"1\" class=\"dataframe\">\n",
       "  <thead>\n",
       "    <tr style=\"text-align: right;\">\n",
       "      <th></th>\n",
       "      <th>TRIP_ID</th>\n",
       "      <th>CALL_TYPE</th>\n",
       "      <th>TAXI_ID</th>\n",
       "      <th>TIMESTAMP</th>\n",
       "      <th>DAY_TYPE</th>\n",
       "      <th>MISSING_DATA</th>\n",
       "      <th>POLYLINE</th>\n",
       "    </tr>\n",
       "  </thead>\n",
       "  <tbody>\n",
       "    <tr>\n",
       "      <th>0</th>\n",
       "      <td>1372636858620000589</td>\n",
       "      <td>C</td>\n",
       "      <td>20000589</td>\n",
       "      <td>1372636858</td>\n",
       "      <td>A</td>\n",
       "      <td>False</td>\n",
       "      <td>[[-8.618643,41.141412],[-8.618499,41.141376],[...</td>\n",
       "    </tr>\n",
       "    <tr>\n",
       "      <th>1</th>\n",
       "      <td>1372637303620000596</td>\n",
       "      <td>B</td>\n",
       "      <td>20000596</td>\n",
       "      <td>1372637303</td>\n",
       "      <td>A</td>\n",
       "      <td>False</td>\n",
       "      <td>[[-8.639847,41.159826],[-8.640351,41.159871],[...</td>\n",
       "    </tr>\n",
       "    <tr>\n",
       "      <th>2</th>\n",
       "      <td>1372636951620000320</td>\n",
       "      <td>C</td>\n",
       "      <td>20000320</td>\n",
       "      <td>1372636951</td>\n",
       "      <td>A</td>\n",
       "      <td>False</td>\n",
       "      <td>[[-8.612964,41.140359],[-8.613378,41.14035],[-...</td>\n",
       "    </tr>\n",
       "    <tr>\n",
       "      <th>3</th>\n",
       "      <td>1372636854620000520</td>\n",
       "      <td>C</td>\n",
       "      <td>20000520</td>\n",
       "      <td>1372636854</td>\n",
       "      <td>A</td>\n",
       "      <td>False</td>\n",
       "      <td>[[-8.574678,41.151951],[-8.574705,41.151942],[...</td>\n",
       "    </tr>\n",
       "    <tr>\n",
       "      <th>4</th>\n",
       "      <td>1372637091620000337</td>\n",
       "      <td>C</td>\n",
       "      <td>20000337</td>\n",
       "      <td>1372637091</td>\n",
       "      <td>A</td>\n",
       "      <td>False</td>\n",
       "      <td>[[-8.645994,41.18049],[-8.645949,41.180517],[-...</td>\n",
       "    </tr>\n",
       "  </tbody>\n",
       "</table>\n",
       "</div>"
      ],
      "text/plain": [
       "               TRIP_ID CALL_TYPE   TAXI_ID   TIMESTAMP DAY_TYPE  MISSING_DATA  \\\n",
       "0  1372636858620000589         C  20000589  1372636858        A         False   \n",
       "1  1372637303620000596         B  20000596  1372637303        A         False   \n",
       "2  1372636951620000320         C  20000320  1372636951        A         False   \n",
       "3  1372636854620000520         C  20000520  1372636854        A         False   \n",
       "4  1372637091620000337         C  20000337  1372637091        A         False   \n",
       "\n",
       "                                            POLYLINE  \n",
       "0  [[-8.618643,41.141412],[-8.618499,41.141376],[...  \n",
       "1  [[-8.639847,41.159826],[-8.640351,41.159871],[...  \n",
       "2  [[-8.612964,41.140359],[-8.613378,41.14035],[-...  \n",
       "3  [[-8.574678,41.151951],[-8.574705,41.151942],[...  \n",
       "4  [[-8.645994,41.18049],[-8.645949,41.180517],[-...  "
      ]
     },
     "execution_count": 13,
     "metadata": {},
     "output_type": "execute_result"
    }
   ],
   "source": [
    "df.head()"
   ]
  },
  {
   "cell_type": "code",
   "execution_count": 8,
   "metadata": {
    "collapsed": true
   },
   "outputs": [
    {
     "data": {
      "text/plain": [
       "array([20000589, 20000596, 20000320, 20000520, 20000337, 20000231,\n",
       "       20000456, 20000011, 20000403, 20000233, 20000571, 20000497,\n",
       "       20000570, 20000005, 20000089, 20000423, 20000657, 20000309,\n",
       "       20000161, 20000178, 20000235, 20000653, 20000009, 20000648,\n",
       "       20000424, 20000010, 20000372, 20000686, 20000435, 20000154,\n",
       "       20000060, 20000167, 20000503, 20000621, 20000463, 20000612,\n",
       "       20000360, 20000574, 20000173, 20000560, 20000492, 20000112,\n",
       "       20000305, 20000004, 20000620, 20000671, 20000341, 20000015,\n",
       "       20000307, 20000171, 20000201, 20000007, 20000199, 20000611,\n",
       "       20000398, 20000067, 20000569, 20000473, 20000367, 20000672,\n",
       "       20000190, 20000600, 20000496, 20000013, 20000454, 20000534,\n",
       "       20000195, 20000406, 20000325, 20000101, 20000632, 20000308,\n",
       "       20000333, 20000481, 20000486, 20000450, 20000545, 20000665,\n",
       "       20000012, 20000688, 20000540, 20000436, 20000517, 20000153,\n",
       "       20000458, 20000577, 20000105, 20000128, 20000616, 20000477,\n",
       "       20000197, 20000476, 20000480, 20000451, 20000663, 20000386,\n",
       "       20000561, 20000472, 20000280, 20000565, 20000432, 20000329,\n",
       "       20000073, 20000397, 20000285, 20000286, 20000024, 20000239,\n",
       "       20000578, 20000514, 20000152, 20000515, 20000247, 20000344,\n",
       "       20000184, 20000502, 20000400, 20000256, 20000625, 20000196,\n",
       "       20000331, 20000678, 20000901, 20000421, 20000229, 20000381,\n",
       "       20000086, 20000539, 20000242, 20000662, 20000279, 20000076,\n",
       "       20000351, 20000529, 20000042, 20000408, 20000674, 20000304,\n",
       "       20000071, 20000038, 20000137, 20000618, 20000179, 20000120,\n",
       "       20000166, 20000151, 20000434, 20000549, 20000484, 20000075,\n",
       "       20000542, 20000391, 20000131, 20000346, 20000296, 20000058,\n",
       "       20000429, 20000268, 20000051, 20000623, 20000021, 20000046,\n",
       "       20000359, 20000470, 20000114, 20000188, 20000026, 20000077,\n",
       "       20000499, 20000180, 20000409, 20000562, 20000651, 20000669,\n",
       "       20000607, 20000049, 20000272, 20000189, 20000455, 20000144,\n",
       "       20000100, 20000576, 20000554, 20000281, 20000068, 20000050,\n",
       "       20000039, 20000186, 20000687, 20000104, 20000460, 20000446,\n",
       "       20000174, 20000255, 20000065, 20000257, 20000192, 20000507,\n",
       "       20000617, 20000664, 20000027, 20000267, 20000319, 20000380,\n",
       "       20000251, 20000163, 20000682, 20000361, 20000138, 20000495,\n",
       "       20000207, 20000349, 20000684, 20000525, 20000045, 20000633,\n",
       "       20000269, 20000640, 20000258, 20000142, 20000680, 20000116,\n",
       "       20000001, 20000254, 20000384, 20000377, 20000626, 20000294,\n",
       "       20000692, 20000030, 20000579, 20000249, 20000440, 20000271,\n",
       "       20000057, 20000675, 20000588, 20000363, 20000099, 20000326,\n",
       "       20000148, 20000546, 20000230, 20000113, 20000557, 20000376,\n",
       "       20000126, 20000006, 20000288, 20000311, 20000598, 20000352,\n",
       "       20000111, 20000222, 20000085, 20000518, 20000443, 20000330,\n",
       "       20000508, 20000226, 20000370, 20000602, 20000387, 20000129,\n",
       "       20000524, 20000048, 20000649, 20000468, 20000467, 20000245,\n",
       "       20000123, 20000601, 20000093, 20000031, 20000487, 20000261,\n",
       "       20000676, 20000431, 20000605, 20000107, 20000047, 20000215,\n",
       "       20000159, 20000156, 20000338, 20000289, 20000410, 20000198,\n",
       "       20000685, 20000074, 20000516, 20000453, 20000604, 20000345,\n",
       "       20000697, 20000315, 20000541, 20000158, 20000136, 20000693,\n",
       "       20000094, 20000014, 20000022, 20000535, 20000054, 20000108,\n",
       "       20000118, 20000328, 20000608, 20000140, 20000353, 20000395,\n",
       "       20000083, 20000018, 20000494, 20000619, 20000594, 20000246,\n",
       "       20000177, 20000040, 20000217, 20000388, 20000615, 20000595,\n",
       "       20000464, 20000206, 20000092, 20000321, 20000053, 20000356,\n",
       "       20000216, 20000667, 20000681, 20000036, 20000017, 20000310,\n",
       "       20000303, 20000146, 20000430, 20000668, 20000324, 20000488,\n",
       "       20000109, 20000297, 20000521, 20000314, 20000658, 20000172,\n",
       "       20000392, 20000347, 20000504, 20000055, 20000465, 20000448,\n",
       "       20000295, 20000452, 20000634, 20000547, 20000080, 20000903,\n",
       "       20000008, 20000603, 20000041, 20000252, 20000327, 20000513,\n",
       "       20000095, 20000081, 20000509, 20000343, 20000032, 20000523,\n",
       "       20000066, 20000419, 20000426, 20000044, 20000483, 20000243,\n",
       "       20000586, 20000527, 20000624, 20000342, 20000273, 20000900,\n",
       "       20000334, 20000904, 20000548, 20000482, 20000157, 20000037,\n",
       "       20000276, 20000572, 20000160, 20000373, 20000084, 20000119,\n",
       "       20000098, 20000695, 20000224, 20000902, 20000225, 20000250,\n",
       "       20000023, 20000597, 20000606, 20000263, 20000610, 20000591,\n",
       "       20000506, 20000072, 20000543, 20000383, 20000020, 20000449,\n",
       "       20000260, 20000364, 20000393, 20000003, 20000002, 20000187,\n",
       "       20000205, 20000312, 20000510, 20000389, 20000340, 20000500,\n",
       "       20000407, 20000980, 20000213, 20000941, 20000969, 20000609,\n",
       "       20000332, 20000121, 20000362, 20000170, 20000585, 20000185,\n",
       "       20000698, 20000670, 20000248, 20000079, 20000981, 20000940],\n",
       "      dtype=int64)"
      ]
     },
     "execution_count": 8,
     "metadata": {},
     "output_type": "execute_result"
    }
   ],
   "source": [
    "df.TAXI_ID.unique()"
   ]
  },
  {
   "cell_type": "code",
   "execution_count": 7,
   "metadata": {},
   "outputs": [
    {
     "data": {
      "text/plain": [
       "444"
      ]
     },
     "execution_count": 7,
     "metadata": {},
     "output_type": "execute_result"
    }
   ],
   "source": [
    "len(df.TAXI_ID.unique())"
   ]
  },
  {
   "cell_type": "markdown",
   "metadata": {},
   "source": [
    "# 8888"
   ]
  },
  {
   "cell_type": "code",
   "execution_count": 10,
   "metadata": {
    "scrolled": false
   },
   "outputs": [
    {
     "data": {
      "text/plain": [
       "TRIP_ID               0\n",
       "CALL_TYPE             0\n",
       "ORIGIN_CALL     1340415\n",
       "ORIGIN_STAND     899986\n",
       "TAXI_ID               0\n",
       "TIMESTAMP             0\n",
       "DAY_TYPE              0\n",
       "MISSING_DATA          0\n",
       "POLYLINE              0\n",
       "dtype: int64"
      ]
     },
     "execution_count": 10,
     "metadata": {},
     "output_type": "execute_result"
    }
   ],
   "source": [
    "missing_values_count = df.isnull().sum()\n",
    "missing_values_count"
   ]
  }
 ],
 "metadata": {
  "kernelspec": {
   "display_name": "Python 3",
   "language": "python",
   "name": "python3"
  },
  "language_info": {
   "codemirror_mode": {
    "name": "ipython",
    "version": 3
   },
   "file_extension": ".py",
   "mimetype": "text/x-python",
   "name": "python",
   "nbconvert_exporter": "python",
   "pygments_lexer": "ipython3",
   "version": "3.6.4"
  }
 },
 "nbformat": 4,
 "nbformat_minor": 2
}
