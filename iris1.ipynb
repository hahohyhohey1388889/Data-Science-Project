{
 "cells": [
  {
   "cell_type": "code",
   "execution_count": 1,
   "metadata": {},
   "outputs": [],
   "source": [
    "import pandas as pd\n",
    "import numpy as np\n",
    "import matplotlib.pyplot as plt\n",
    "import seaborn as sns\n",
    "sns.set_style(\"whitegrid\",{\"font.sans-serif\":['Microsoft JhengHei']})\n",
    "plt.rcParams['font.sans-serif'] = ['Microsoft JhengHei']  #顯示中文\n",
    "plt.rcParams['axes.unicode_minus'] = False \n",
    "\n",
    "%matplotlib inline"
   ]
  },
  {
   "cell_type": "code",
   "execution_count": 2,
   "metadata": {},
   "outputs": [],
   "source": [
    "# Load in the train datasets\n",
    "train = pd.read_csv('input/train.csv', encoding = \"utf-8\", dtype = {'type': np.int32})\n",
    "test = pd.read_csv('input/test.csv', encoding = \"utf-8\")\n",
    "submission = pd.read_csv('input/submission.csv', encoding = \"utf-8\", dtype = {'type': np.int32})"
   ]
  },
  {
   "cell_type": "code",
   "execution_count": 3,
   "metadata": {},
   "outputs": [
    {
     "name": "stdout",
     "output_type": "stream",
     "text": [
      "train shape : (123, 7)\n",
      "test shape : (30, 5)\n",
      "submission shape : (30, 2)\n"
     ]
    }
   ],
   "source": [
    "print('train shape :', train.shape)\n",
    "print('test shape :', test.shape)\n",
    "print('submission shape :', submission.shape)"
   ]
  },
  {
   "cell_type": "code",
   "execution_count": 4,
   "metadata": {},
   "outputs": [
    {
     "data": {
      "text/html": [
       "<div>\n",
       "<style scoped>\n",
       "    .dataframe tbody tr th:only-of-type {\n",
       "        vertical-align: middle;\n",
       "    }\n",
       "\n",
       "    .dataframe tbody tr th {\n",
       "        vertical-align: top;\n",
       "    }\n",
       "\n",
       "    .dataframe thead th {\n",
       "        text-align: right;\n",
       "    }\n",
       "</style>\n",
       "<table border=\"1\" class=\"dataframe\">\n",
       "  <thead>\n",
       "    <tr style=\"text-align: right;\">\n",
       "      <th></th>\n",
       "      <th>id</th>\n",
       "      <th>花萼長度</th>\n",
       "      <th>花萼寬度</th>\n",
       "      <th>花瓣長度</th>\n",
       "      <th>花瓣寬度</th>\n",
       "      <th>屬種</th>\n",
       "      <th>type</th>\n",
       "    </tr>\n",
       "  </thead>\n",
       "  <tbody>\n",
       "    <tr>\n",
       "      <th>0</th>\n",
       "      <td>1</td>\n",
       "      <td>5.4</td>\n",
       "      <td>3.7</td>\n",
       "      <td>1.5</td>\n",
       "      <td>0.2</td>\n",
       "      <td>Iris-setosa</td>\n",
       "      <td>1</td>\n",
       "    </tr>\n",
       "    <tr>\n",
       "      <th>1</th>\n",
       "      <td>2</td>\n",
       "      <td>4.8</td>\n",
       "      <td>3.4</td>\n",
       "      <td>1.6</td>\n",
       "      <td>0.2</td>\n",
       "      <td>Iris-setosa</td>\n",
       "      <td>1</td>\n",
       "    </tr>\n",
       "    <tr>\n",
       "      <th>2</th>\n",
       "      <td>3</td>\n",
       "      <td>4.8</td>\n",
       "      <td>3.0</td>\n",
       "      <td>1.4</td>\n",
       "      <td>0.1</td>\n",
       "      <td>Iris-setosa</td>\n",
       "      <td>1</td>\n",
       "    </tr>\n",
       "  </tbody>\n",
       "</table>\n",
       "</div>"
      ],
      "text/plain": [
       "   id  花萼長度  花萼寬度  花瓣長度  花瓣寬度           屬種  type\n",
       "0   1   5.4   3.7   1.5   0.2  Iris-setosa     1\n",
       "1   2   4.8   3.4   1.6   0.2  Iris-setosa     1\n",
       "2   3   4.8   3.0   1.4   0.1  Iris-setosa     1"
      ]
     },
     "execution_count": 4,
     "metadata": {},
     "output_type": "execute_result"
    }
   ],
   "source": [
    "train.head(3)"
   ]
  },
  {
   "cell_type": "code",
   "execution_count": 5,
   "metadata": {},
   "outputs": [
    {
     "data": {
      "text/html": [
       "<div>\n",
       "<style scoped>\n",
       "    .dataframe tbody tr th:only-of-type {\n",
       "        vertical-align: middle;\n",
       "    }\n",
       "\n",
       "    .dataframe tbody tr th {\n",
       "        vertical-align: top;\n",
       "    }\n",
       "\n",
       "    .dataframe thead th {\n",
       "        text-align: right;\n",
       "    }\n",
       "</style>\n",
       "<table border=\"1\" class=\"dataframe\">\n",
       "  <thead>\n",
       "    <tr style=\"text-align: right;\">\n",
       "      <th></th>\n",
       "      <th>id</th>\n",
       "      <th>花萼長度</th>\n",
       "      <th>花萼寬度</th>\n",
       "      <th>花瓣長度</th>\n",
       "      <th>花瓣寬度</th>\n",
       "    </tr>\n",
       "  </thead>\n",
       "  <tbody>\n",
       "    <tr>\n",
       "      <th>0</th>\n",
       "      <td>1</td>\n",
       "      <td>5.1</td>\n",
       "      <td>3.5</td>\n",
       "      <td>1.4</td>\n",
       "      <td>0.2</td>\n",
       "    </tr>\n",
       "    <tr>\n",
       "      <th>1</th>\n",
       "      <td>2</td>\n",
       "      <td>4.9</td>\n",
       "      <td>3.0</td>\n",
       "      <td>1.4</td>\n",
       "      <td>0.2</td>\n",
       "    </tr>\n",
       "    <tr>\n",
       "      <th>2</th>\n",
       "      <td>3</td>\n",
       "      <td>4.7</td>\n",
       "      <td>3.2</td>\n",
       "      <td>1.3</td>\n",
       "      <td>0.2</td>\n",
       "    </tr>\n",
       "  </tbody>\n",
       "</table>\n",
       "</div>"
      ],
      "text/plain": [
       "   id  花萼長度  花萼寬度  花瓣長度  花瓣寬度\n",
       "0   1   5.1   3.5   1.4   0.2\n",
       "1   2   4.9   3.0   1.4   0.2\n",
       "2   3   4.7   3.2   1.3   0.2"
      ]
     },
     "execution_count": 5,
     "metadata": {},
     "output_type": "execute_result"
    }
   ],
   "source": [
    "test.head(3)"
   ]
  },
  {
   "cell_type": "code",
   "execution_count": 6,
   "metadata": {},
   "outputs": [
    {
     "data": {
      "text/html": [
       "<div>\n",
       "<style scoped>\n",
       "    .dataframe tbody tr th:only-of-type {\n",
       "        vertical-align: middle;\n",
       "    }\n",
       "\n",
       "    .dataframe tbody tr th {\n",
       "        vertical-align: top;\n",
       "    }\n",
       "\n",
       "    .dataframe thead th {\n",
       "        text-align: right;\n",
       "    }\n",
       "</style>\n",
       "<table border=\"1\" class=\"dataframe\">\n",
       "  <thead>\n",
       "    <tr style=\"text-align: right;\">\n",
       "      <th></th>\n",
       "      <th>id</th>\n",
       "      <th>type</th>\n",
       "    </tr>\n",
       "  </thead>\n",
       "  <tbody>\n",
       "    <tr>\n",
       "      <th>0</th>\n",
       "      <td>1</td>\n",
       "      <td>1</td>\n",
       "    </tr>\n",
       "    <tr>\n",
       "      <th>1</th>\n",
       "      <td>2</td>\n",
       "      <td>1</td>\n",
       "    </tr>\n",
       "    <tr>\n",
       "      <th>2</th>\n",
       "      <td>3</td>\n",
       "      <td>1</td>\n",
       "    </tr>\n",
       "  </tbody>\n",
       "</table>\n",
       "</div>"
      ],
      "text/plain": [
       "   id  type\n",
       "0   1     1\n",
       "1   2     1\n",
       "2   3     1"
      ]
     },
     "execution_count": 6,
     "metadata": {},
     "output_type": "execute_result"
    }
   ],
   "source": [
    "submission.head(3)"
   ]
  },
  {
   "cell_type": "markdown",
   "metadata": {},
   "source": [
    "# EDA"
   ]
  },
  {
   "cell_type": "code",
   "execution_count": 7,
   "metadata": {},
   "outputs": [
    {
     "data": {
      "text/html": [
       "<div>\n",
       "<style scoped>\n",
       "    .dataframe tbody tr th:only-of-type {\n",
       "        vertical-align: middle;\n",
       "    }\n",
       "\n",
       "    .dataframe tbody tr th {\n",
       "        vertical-align: top;\n",
       "    }\n",
       "\n",
       "    .dataframe thead th {\n",
       "        text-align: right;\n",
       "    }\n",
       "</style>\n",
       "<table border=\"1\" class=\"dataframe\">\n",
       "  <thead>\n",
       "    <tr style=\"text-align: right;\">\n",
       "      <th></th>\n",
       "      <th>id</th>\n",
       "      <th>花萼長度</th>\n",
       "      <th>花萼寬度</th>\n",
       "      <th>花瓣長度</th>\n",
       "      <th>花瓣寬度</th>\n",
       "      <th>type</th>\n",
       "    </tr>\n",
       "  </thead>\n",
       "  <tbody>\n",
       "    <tr>\n",
       "      <th>count</th>\n",
       "      <td>123.000000</td>\n",
       "      <td>122.000000</td>\n",
       "      <td>122.000000</td>\n",
       "      <td>123.000000</td>\n",
       "      <td>123.000000</td>\n",
       "      <td>123.000000</td>\n",
       "    </tr>\n",
       "    <tr>\n",
       "      <th>mean</th>\n",
       "      <td>62.000000</td>\n",
       "      <td>5.840164</td>\n",
       "      <td>3.058197</td>\n",
       "      <td>3.764228</td>\n",
       "      <td>1.204878</td>\n",
       "      <td>2.048780</td>\n",
       "    </tr>\n",
       "    <tr>\n",
       "      <th>std</th>\n",
       "      <td>35.651087</td>\n",
       "      <td>0.790926</td>\n",
       "      <td>0.445332</td>\n",
       "      <td>1.731536</td>\n",
       "      <td>0.754425</td>\n",
       "      <td>0.867006</td>\n",
       "    </tr>\n",
       "    <tr>\n",
       "      <th>min</th>\n",
       "      <td>1.000000</td>\n",
       "      <td>4.300000</td>\n",
       "      <td>2.000000</td>\n",
       "      <td>1.000000</td>\n",
       "      <td>0.100000</td>\n",
       "      <td>1.000000</td>\n",
       "    </tr>\n",
       "    <tr>\n",
       "      <th>25%</th>\n",
       "      <td>31.500000</td>\n",
       "      <td>5.200000</td>\n",
       "      <td>2.800000</td>\n",
       "      <td>1.600000</td>\n",
       "      <td>0.300000</td>\n",
       "      <td>1.000000</td>\n",
       "    </tr>\n",
       "    <tr>\n",
       "      <th>50%</th>\n",
       "      <td>62.000000</td>\n",
       "      <td>5.800000</td>\n",
       "      <td>3.000000</td>\n",
       "      <td>4.300000</td>\n",
       "      <td>1.300000</td>\n",
       "      <td>2.000000</td>\n",
       "    </tr>\n",
       "    <tr>\n",
       "      <th>75%</th>\n",
       "      <td>92.500000</td>\n",
       "      <td>6.375000</td>\n",
       "      <td>3.300000</td>\n",
       "      <td>5.100000</td>\n",
       "      <td>1.800000</td>\n",
       "      <td>3.000000</td>\n",
       "    </tr>\n",
       "    <tr>\n",
       "      <th>max</th>\n",
       "      <td>123.000000</td>\n",
       "      <td>7.900000</td>\n",
       "      <td>4.400000</td>\n",
       "      <td>6.900000</td>\n",
       "      <td>2.500000</td>\n",
       "      <td>4.000000</td>\n",
       "    </tr>\n",
       "  </tbody>\n",
       "</table>\n",
       "</div>"
      ],
      "text/plain": [
       "               id        花萼長度        花萼寬度        花瓣長度        花瓣寬度        type\n",
       "count  123.000000  122.000000  122.000000  123.000000  123.000000  123.000000\n",
       "mean    62.000000    5.840164    3.058197    3.764228    1.204878    2.048780\n",
       "std     35.651087    0.790926    0.445332    1.731536    0.754425    0.867006\n",
       "min      1.000000    4.300000    2.000000    1.000000    0.100000    1.000000\n",
       "25%     31.500000    5.200000    2.800000    1.600000    0.300000    1.000000\n",
       "50%     62.000000    5.800000    3.000000    4.300000    1.300000    2.000000\n",
       "75%     92.500000    6.375000    3.300000    5.100000    1.800000    3.000000\n",
       "max    123.000000    7.900000    4.400000    6.900000    2.500000    4.000000"
      ]
     },
     "execution_count": 7,
     "metadata": {},
     "output_type": "execute_result"
    }
   ],
   "source": [
    "train.describe()"
   ]
  },
  {
   "cell_type": "code",
   "execution_count": 8,
   "metadata": {},
   "outputs": [
    {
     "data": {
      "text/plain": [
       "['Iris-setosa', 'Iris-versicolor', 'Iris-virginica', 'Iris-new_type']"
      ]
     },
     "execution_count": 8,
     "metadata": {},
     "output_type": "execute_result"
    }
   ],
   "source": [
    "train.屬種.unique().tolist()"
   ]
  },
  {
   "cell_type": "code",
   "execution_count": 9,
   "metadata": {},
   "outputs": [
    {
     "data": {
      "text/html": [
       "<div>\n",
       "<style scoped>\n",
       "    .dataframe tbody tr th:only-of-type {\n",
       "        vertical-align: middle;\n",
       "    }\n",
       "\n",
       "    .dataframe tbody tr th {\n",
       "        vertical-align: top;\n",
       "    }\n",
       "\n",
       "    .dataframe thead th {\n",
       "        text-align: right;\n",
       "    }\n",
       "</style>\n",
       "<table border=\"1\" class=\"dataframe\">\n",
       "  <thead>\n",
       "    <tr style=\"text-align: right;\">\n",
       "      <th></th>\n",
       "      <th>Iris-new_type</th>\n",
       "      <th>Iris-setosa</th>\n",
       "      <th>Iris-versicolor</th>\n",
       "      <th>Iris-virginica</th>\n",
       "    </tr>\n",
       "  </thead>\n",
       "  <tbody>\n",
       "    <tr>\n",
       "      <th>66</th>\n",
       "      <td>0</td>\n",
       "      <td>0</td>\n",
       "      <td>1</td>\n",
       "      <td>0</td>\n",
       "    </tr>\n",
       "    <tr>\n",
       "      <th>55</th>\n",
       "      <td>0</td>\n",
       "      <td>0</td>\n",
       "      <td>1</td>\n",
       "      <td>0</td>\n",
       "    </tr>\n",
       "    <tr>\n",
       "      <th>71</th>\n",
       "      <td>0</td>\n",
       "      <td>0</td>\n",
       "      <td>1</td>\n",
       "      <td>0</td>\n",
       "    </tr>\n",
       "    <tr>\n",
       "      <th>115</th>\n",
       "      <td>0</td>\n",
       "      <td>0</td>\n",
       "      <td>0</td>\n",
       "      <td>1</td>\n",
       "    </tr>\n",
       "    <tr>\n",
       "      <th>79</th>\n",
       "      <td>0</td>\n",
       "      <td>0</td>\n",
       "      <td>1</td>\n",
       "      <td>0</td>\n",
       "    </tr>\n",
       "  </tbody>\n",
       "</table>\n",
       "</div>"
      ],
      "text/plain": [
       "     Iris-new_type  Iris-setosa  Iris-versicolor  Iris-virginica\n",
       "66               0            0                1               0\n",
       "55               0            0                1               0\n",
       "71               0            0                1               0\n",
       "115              0            0                0               1\n",
       "79               0            0                1               0"
      ]
     },
     "execution_count": 9,
     "metadata": {},
     "output_type": "execute_result"
    }
   ],
   "source": [
    "#one-hot encoding\n",
    "df1 = pd.get_dummies(train['屬種'])\n",
    "df1.sample(5)"
   ]
  },
  {
   "cell_type": "code",
   "execution_count": 10,
   "metadata": {},
   "outputs": [
    {
     "data": {
      "text/plain": [
       "106    3\n",
       "81     3\n",
       "26     1\n",
       "67     2\n",
       "25     1\n",
       "Name: 屬種, dtype: object"
      ]
     },
     "execution_count": 10,
     "metadata": {},
     "output_type": "execute_result"
    }
   ],
   "source": [
    "#LabelEncoding\n",
    "df2 = train['屬種'].replace({'Iris-setosa':1,'Iris-versicolor':2,'Iris-virginica':3})\n",
    "df2.sample(5)"
   ]
  },
  {
   "cell_type": "code",
   "execution_count": 11,
   "metadata": {},
   "outputs": [
    {
     "data": {
      "text/plain": [
       "花萼寬度    1\n",
       "花萼長度    1\n",
       "type    0\n",
       "屬種      0\n",
       "花瓣寬度    0\n",
       "花瓣長度    0\n",
       "id      0\n",
       "dtype: int64"
      ]
     },
     "execution_count": 11,
     "metadata": {},
     "output_type": "execute_result"
    }
   ],
   "source": [
    "#missing data\n",
    "miss_sum = train.isnull().sum().sort_values(ascending=False)\n",
    "miss_sum"
   ]
  },
  {
   "cell_type": "code",
   "execution_count": 12,
   "metadata": {},
   "outputs": [
    {
     "name": "stdout",
     "output_type": "stream",
     "text": [
      "      id  花萼長度  花萼寬度  花瓣長度  花瓣寬度             屬種  type\n",
      "121  122   5.2   NaN   5.1   1.8  Iris-new_type     4\n",
      "--------------------------------\n",
      "      id  花萼長度  花萼寬度  花瓣長度  花瓣寬度             屬種  type\n",
      "120  121   NaN   3.0   4.9   1.2  Iris-new_type     4\n"
     ]
    }
   ],
   "source": [
    "#查詢那幾筆是空值\n",
    "print(train[train['花萼寬度'].isnull()])\n",
    "print(\"--------------------------------\")\n",
    "print(train[train['花萼長度'].isnull()])"
   ]
  },
  {
   "cell_type": "code",
   "execution_count": 13,
   "metadata": {},
   "outputs": [
    {
     "data": {
      "text/plain": [
       "type    0\n",
       "屬種      0\n",
       "花瓣寬度    0\n",
       "花瓣長度    0\n",
       "花萼寬度    0\n",
       "花萼長度    0\n",
       "id      0\n",
       "dtype: int64"
      ]
     },
     "execution_count": 13,
     "metadata": {},
     "output_type": "execute_result"
    }
   ],
   "source": [
    "#直接把 NaN drop (如果筆數很少,不影響建模的時候)\n",
    "train_d_na = train.dropna().reset_index(drop=True)\n",
    "train_d_na.isnull().sum().sort_values(ascending=False)"
   ]
  },
  {
   "cell_type": "code",
   "execution_count": 14,
   "metadata": {},
   "outputs": [
    {
     "data": {
      "text/plain": [
       "<matplotlib.axes._subplots.AxesSubplot at 0x1ff3da37d30>"
      ]
     },
     "execution_count": 14,
     "metadata": {},
     "output_type": "execute_result"
    },
    {
     "data": {
      "image/png": "[encoded data removed]",
      "text/plain": [
       "<matplotlib.figure.Figure at 0x1ff3da37630>"
      ]
     },
     "metadata": {},
     "output_type": "display_data"
    }
   ],
   "source": [
    "#將空值補平均數\n",
    "#train.loc[train['花萼寬度'].isnull(),['花萼寬度']] = train['花萼寬度'].mean() #花萼寬度:第2欄\n",
    "train[['花萼寬度']] = train[['花萼寬度']].fillna(np.mean(train[['花萼寬度']]))\n",
    "\n",
    "train.plot(kind='line',y=u'花萼寬度',figsize=(10,6),fontsize=14,title=u'花萼寬度')"
   ]
  },
  {
   "cell_type": "code",
   "execution_count": 15,
   "metadata": {},
   "outputs": [
    {
     "data": {
      "text/plain": [
       "<matplotlib.axes._subplots.AxesSubplot at 0x1ff3fb284a8>"
      ]
     },
     "execution_count": 15,
     "metadata": {},
     "output_type": "execute_result"
    },
    {
     "data": {
      "image/png": "[encoded data removed]",
      "text/plain": [
       "<matplotlib.figure.Figure at 0x1ff3da27b70>"
      ]
     },
     "metadata": {},
     "output_type": "display_data"
    }
   ],
   "source": [
    "#將空值補眾數\n",
    "#train.loc[train['花萼長度'].isnull(),['花萼長度']] = train['花萼長度'].mode()[0] #花萼長度:第1欄\n",
    "train[['花萼長度']] = train[['花萼長度']].fillna(train['花萼長度'].mode()[0])\n",
    "\n",
    "train.plot(kind='line',y='花萼長度',figsize=(10,6),fontsize=14,title='花萼長度')"
   ]
  },
  {
   "cell_type": "markdown",
   "metadata": {},
   "source": [
    "## Correlation"
   ]
  },
  {
   "cell_type": "code",
   "execution_count": 16,
   "metadata": {},
   "outputs": [
    {
     "data": {
      "text/plain": [
       "array([[<matplotlib.axes._subplots.AxesSubplot object at 0x000001FF3FBDC0F0>,\n",
       "        <matplotlib.axes._subplots.AxesSubplot object at 0x000001FF3FC525C0>,\n",
       "        <matplotlib.axes._subplots.AxesSubplot object at 0x000001FF3FC641D0>,\n",
       "        <matplotlib.axes._subplots.AxesSubplot object at 0x000001FF3FD60048>],\n",
       "       [<matplotlib.axes._subplots.AxesSubplot object at 0x000001FF3FDAF860>,\n",
       "        <matplotlib.axes._subplots.AxesSubplot object at 0x000001FF3FDAF898>,\n",
       "        <matplotlib.axes._subplots.AxesSubplot object at 0x000001FF3FE88320>,\n",
       "        <matplotlib.axes._subplots.AxesSubplot object at 0x000001FF3FEF1F98>],\n",
       "       [<matplotlib.axes._subplots.AxesSubplot object at 0x000001FF3FF55978>,\n",
       "        <matplotlib.axes._subplots.AxesSubplot object at 0x000001FF3FFCEC50>,\n",
       "        <matplotlib.axes._subplots.AxesSubplot object at 0x000001FF40032BE0>,\n",
       "        <matplotlib.axes._subplots.AxesSubplot object at 0x000001FF40074550>],\n",
       "       [<matplotlib.axes._subplots.AxesSubplot object at 0x000001FF401031D0>,\n",
       "        <matplotlib.axes._subplots.AxesSubplot object at 0x000001FF40111710>,\n",
       "        <matplotlib.axes._subplots.AxesSubplot object at 0x000001FF401CBB70>,\n",
       "        <matplotlib.axes._subplots.AxesSubplot object at 0x000001FF4022B978>]],\n",
       "      dtype=object)"
      ]
     },
     "execution_count": 16,
     "metadata": {},
     "output_type": "execute_result"
    },
    {
     "data": {
      "image/png": "[encoded data removed]",
      "text/plain": [
       "<matplotlib.figure.Figure at 0x1ff3fb53cc0>"
      ]
     },
     "metadata": {},
     "output_type": "display_data"
    }
   ],
   "source": [
    "from pandas.plotting import scatter_matrix\n",
    "scatter_matrix( train[['花瓣寬度','花瓣長度','花萼寬度','花萼長度']],figsize=(10, 10),color='b')"
   ]
  },
  {
   "cell_type": "code",
   "execution_count": 17,
   "metadata": {},
   "outputs": [
    {
     "name": "stdout",
     "output_type": "stream",
     "text": [
      "          花瓣寬度      花瓣長度      花萼寬度      花萼長度\n",
      "花瓣寬度  1.000000  0.958595 -0.367957  0.810219\n",
      "花瓣長度  0.958595  1.000000 -0.436213  0.850649\n",
      "花萼寬度 -0.367957 -0.436213  1.000000 -0.130174\n",
      "花萼長度  0.810219  0.850649 -0.130174  1.000000\n"
     ]
    }
   ],
   "source": [
    "corr = train[['花瓣寬度','花瓣長度','花萼寬度','花萼長度']].corr()\n",
    "print(corr)"
   ]
  },
  {
   "cell_type": "code",
   "execution_count": 18,
   "metadata": {},
   "outputs": [
    {
     "data": {
      "text/plain": [
       "<matplotlib.axes._subplots.AxesSubplot at 0x1ff3fe531d0>"
      ]
     },
     "execution_count": 18,
     "metadata": {},
     "output_type": "execute_result"
    },
    {
     "data": {
      "image/png": "[encoded data removed]",
      "text/plain": [
       "<matplotlib.figure.Figure at 0x1ff40477588>"
      ]
     },
     "metadata": {},
     "output_type": "display_data"
    }
   ],
   "source": [
    "plt.rcParams['font.family']='DFKai-SB' #顯示中文\n",
    "plt.figure(figsize=(10,10))\n",
    "sns.heatmap(corr, square=True, annot=True, cmap=\"RdBu_r\") #center=0, cmap=\"YlGnBu\"\n",
    "#sns.plt.show()\n",
    "\n",
    "# http://seaborn.pydata.org/tutorial/color_palettes.html"
   ]
  },
  {
   "cell_type": "markdown",
   "metadata": {},
   "source": [
    "## Outlier"
   ]
  },
  {
   "cell_type": "code",
   "execution_count": 19,
   "metadata": {},
   "outputs": [
    {
     "data": {
      "text/plain": [
       "<matplotlib.text.Text at 0x1ff40d09ba8>"
      ]
     },
     "execution_count": 19,
     "metadata": {},
     "output_type": "execute_result"
    },
    {
     "data": {
      "image/png": "[encoded data removed]",
      "text/plain": [
       "<matplotlib.figure.Figure at 0x1ff40ac2710>"
      ]
     },
     "metadata": {},
     "output_type": "display_data"
    }
   ],
   "source": [
    "#train[['花瓣寬度','花瓣長度','花萼寬度','花萼長度']]\n",
    "fig, axes = plt.subplots(nrows=2, ncols=4, figsize=(10, 10), sharey=True)\n",
    "\n",
    "axes[0, 0].boxplot(train['花萼寬度'],showmeans=True)\n",
    "axes[0, 0].set_title('訓:花萼寬度')\n",
    "\n",
    "axes[0, 1].boxplot(train['花瓣寬度'],showmeans=True)\n",
    "axes[0, 1].set_title('訓:花瓣寬度')\n",
    "\n",
    "axes[0, 2].boxplot(train['花瓣長度'],showmeans=True)\n",
    "axes[0, 2].set_title('訓:花瓣長度')\n",
    "\n",
    "axes[0, 3].boxplot(train['花萼長度'],showmeans=True)\n",
    "axes[0, 3].set_title('訓:花萼長度')\n",
    "\n",
    "axes[1, 0].boxplot(test['花萼寬度'],showmeans=True)\n",
    "axes[1, 0].set_title('測:花萼寬度')\n",
    "\n",
    "axes[1, 1].boxplot(test['花瓣寬度'],showmeans=True)\n",
    "axes[1, 1].set_title('測:花瓣寬度')\n",
    "\n",
    "axes[1, 2].boxplot(test['花瓣長度'],showmeans=True)\n",
    "axes[1, 2].set_title('測:花瓣長度')\n",
    "\n",
    "axes[1, 3].boxplot(test['花萼長度'],showmeans=True)\n",
    "axes[1, 3].set_title('測:花萼長度')"
   ]
  },
  {
   "cell_type": "code",
   "execution_count": 20,
   "metadata": {},
   "outputs": [
    {
     "data": {
      "text/plain": [
       "<matplotlib.axes._subplots.AxesSubplot at 0x1ff404b9f98>"
      ]
     },
     "execution_count": 20,
     "metadata": {},
     "output_type": "execute_result"
    },
    {
     "data": {
      "image/png": "[encoded data removed]",
      "text/plain": [
       "<matplotlib.figure.Figure at 0x1ff4060b208>"
      ]
     },
     "metadata": {},
     "output_type": "display_data"
    }
   ],
   "source": [
    "train.plot(kind='bar',y='花萼寬度',figsize=(30,6),fontsize=14,title='花萼寬度', color = 'b')"
   ]
  },
  {
   "cell_type": "code",
   "execution_count": 21,
   "metadata": {},
   "outputs": [],
   "source": [
    "#IQR = Q3-Q1\n",
    "IQR = np.percentile(train['花萼寬度'],75) - np.percentile(train['花萼寬度'],25)"
   ]
  },
  {
   "cell_type": "code",
   "execution_count": 22,
   "metadata": {},
   "outputs": [
    {
     "data": {
      "text/html": [
       "<div>\n",
       "<style scoped>\n",
       "    .dataframe tbody tr th:only-of-type {\n",
       "        vertical-align: middle;\n",
       "    }\n",
       "\n",
       "    .dataframe tbody tr th {\n",
       "        vertical-align: top;\n",
       "    }\n",
       "\n",
       "    .dataframe thead th {\n",
       "        text-align: right;\n",
       "    }\n",
       "</style>\n",
       "<table border=\"1\" class=\"dataframe\">\n",
       "  <thead>\n",
       "    <tr style=\"text-align: right;\">\n",
       "      <th></th>\n",
       "      <th>id</th>\n",
       "      <th>花萼長度</th>\n",
       "      <th>花萼寬度</th>\n",
       "      <th>花瓣長度</th>\n",
       "      <th>花瓣寬度</th>\n",
       "      <th>屬種</th>\n",
       "      <th>type</th>\n",
       "    </tr>\n",
       "  </thead>\n",
       "  <tbody>\n",
       "    <tr>\n",
       "      <th>5</th>\n",
       "      <td>6</td>\n",
       "      <td>5.7</td>\n",
       "      <td>4.4</td>\n",
       "      <td>1.5</td>\n",
       "      <td>0.4</td>\n",
       "      <td>Iris-setosa</td>\n",
       "      <td>1</td>\n",
       "    </tr>\n",
       "    <tr>\n",
       "      <th>22</th>\n",
       "      <td>23</td>\n",
       "      <td>5.2</td>\n",
       "      <td>4.1</td>\n",
       "      <td>1.5</td>\n",
       "      <td>0.1</td>\n",
       "      <td>Iris-setosa</td>\n",
       "      <td>1</td>\n",
       "    </tr>\n",
       "    <tr>\n",
       "      <th>23</th>\n",
       "      <td>24</td>\n",
       "      <td>5.5</td>\n",
       "      <td>4.2</td>\n",
       "      <td>1.4</td>\n",
       "      <td>0.2</td>\n",
       "      <td>Iris-setosa</td>\n",
       "      <td>1</td>\n",
       "    </tr>\n",
       "  </tbody>\n",
       "</table>\n",
       "</div>"
      ],
      "text/plain": [
       "    id  花萼長度  花萼寬度  花瓣長度  花瓣寬度           屬種  type\n",
       "5    6   5.7   4.4   1.5   0.4  Iris-setosa     1\n",
       "22  23   5.2   4.1   1.5   0.1  Iris-setosa     1\n",
       "23  24   5.5   4.2   1.4   0.2  Iris-setosa     1"
      ]
     },
     "execution_count": 22,
     "metadata": {},
     "output_type": "execute_result"
    }
   ],
   "source": [
    "#上界 = Q3 + 1.5*IQR\n",
    "train[train['花萼寬度'] > np.percentile(train['花萼寬度'],75)+1.5*IQR]"
   ]
  },
  {
   "cell_type": "code",
   "execution_count": 23,
   "metadata": {},
   "outputs": [
    {
     "data": {
      "text/html": [
       "<div>\n",
       "<style scoped>\n",
       "    .dataframe tbody tr th:only-of-type {\n",
       "        vertical-align: middle;\n",
       "    }\n",
       "\n",
       "    .dataframe tbody tr th {\n",
       "        vertical-align: top;\n",
       "    }\n",
       "\n",
       "    .dataframe thead th {\n",
       "        text-align: right;\n",
       "    }\n",
       "</style>\n",
       "<table border=\"1\" class=\"dataframe\">\n",
       "  <thead>\n",
       "    <tr style=\"text-align: right;\">\n",
       "      <th></th>\n",
       "      <th>id</th>\n",
       "      <th>花萼長度</th>\n",
       "      <th>花萼寬度</th>\n",
       "      <th>花瓣長度</th>\n",
       "      <th>花瓣寬度</th>\n",
       "      <th>屬種</th>\n",
       "      <th>type</th>\n",
       "    </tr>\n",
       "  </thead>\n",
       "  <tbody>\n",
       "    <tr>\n",
       "      <th>40</th>\n",
       "      <td>41</td>\n",
       "      <td>5.0</td>\n",
       "      <td>2.0</td>\n",
       "      <td>3.5</td>\n",
       "      <td>1.0</td>\n",
       "      <td>Iris-versicolor</td>\n",
       "      <td>2</td>\n",
       "    </tr>\n",
       "  </tbody>\n",
       "</table>\n",
       "</div>"
      ],
      "text/plain": [
       "    id  花萼長度  花萼寬度  花瓣長度  花瓣寬度               屬種  type\n",
       "40  41   5.0   2.0   3.5   1.0  Iris-versicolor     2"
      ]
     },
     "execution_count": 23,
     "metadata": {},
     "output_type": "execute_result"
    }
   ],
   "source": [
    "#下界 = Q1 - 1.5*IQR\n",
    "train[train['花萼寬度'] < np.percentile(train['花萼寬度'],25)-1.5*IQR]"
   ]
  },
  {
   "cell_type": "code",
   "execution_count": 24,
   "metadata": {},
   "outputs": [],
   "source": [
    "#fix_X = X.drop(X.index[[5,23,40]])\n",
    "#fix_y = y.drop(y.index[[5,23,40]])"
   ]
  },
  {
   "cell_type": "markdown",
   "metadata": {},
   "source": [
    "# Split"
   ]
  },
  {
   "cell_type": "code",
   "execution_count": 25,
   "metadata": {},
   "outputs": [],
   "source": [
    "train = train[train['type']!=4]"
   ]
  },
  {
   "cell_type": "code",
   "execution_count": 26,
   "metadata": {},
   "outputs": [],
   "source": [
    "from sklearn.model_selection import train_test_split\n",
    "\n",
    "X = train[['花瓣寬度','花瓣長度','花萼寬度','花萼長度']]\n",
    "y = train['type']\n",
    "X_train, X_test, y_train, y_test = train_test_split(X, y, test_size = 0.3, random_state=889)"
   ]
  },
  {
   "cell_type": "code",
   "execution_count": 27,
   "metadata": {},
   "outputs": [],
   "source": [
    "from sklearn.preprocessing import StandardScaler\n",
    "sc = StandardScaler()\n",
    "sc.fit(X_train)\n",
    "X_train_std = sc.transform(X_train)\n",
    "X_test_std = sc.transform(X_test)"
   ]
  },
  {
   "cell_type": "code",
   "execution_count": 28,
   "metadata": {},
   "outputs": [
    {
     "data": {
      "text/plain": [
       "array([[ 0.50761319,  0.53173867, -0.36985324,  0.33625407],\n",
       "       [ 0.23251959,  0.29541037, -0.16273543, -0.22305963],\n",
       "       [ 0.92025358,  0.88623111, -0.16273543,  0.19642565],\n",
       "       [ 0.23251959,  0.29541037, -0.57697106, -0.08323121],\n",
       "       [-1.2804952 , -1.35888771,  0.87285365, -0.36288806]])"
      ]
     },
     "execution_count": 28,
     "metadata": {},
     "output_type": "execute_result"
    }
   ],
   "source": [
    "X_train_std[0:5]"
   ]
  },
  {
   "cell_type": "code",
   "execution_count": 29,
   "metadata": {},
   "outputs": [
    {
     "data": {
      "text/plain": [
       "59     2\n",
       "77     2\n",
       "100    3\n",
       "7      1\n",
       "15     1\n",
       "Name: type, dtype: int32"
      ]
     },
     "execution_count": 29,
     "metadata": {},
     "output_type": "execute_result"
    }
   ],
   "source": [
    "y_test[0:5]"
   ]
  },
  {
   "cell_type": "markdown",
   "metadata": {},
   "source": [
    "## KNN"
   ]
  },
  {
   "cell_type": "code",
   "execution_count": 30,
   "metadata": {},
   "outputs": [
    {
     "name": "stdout",
     "output_type": "stream",
     "text": [
      "             precision    recall  f1-score   support\n",
      "\n",
      "          1       1.00      1.00      1.00        11\n",
      "          2       1.00      0.78      0.88         9\n",
      "          3       0.89      1.00      0.94        16\n",
      "\n",
      "avg / total       0.95      0.94      0.94        36\n",
      "\n",
      "[[11  0  0]\n",
      " [ 0  7  2]\n",
      " [ 0  0 16]]\n"
     ]
    }
   ],
   "source": [
    "from sklearn.neighbors import KNeighborsClassifier\n",
    "from sklearn import metrics\n",
    "\n",
    "knn = KNeighborsClassifier(n_neighbors=3, weights='uniform')\n",
    "knn.fit(X_train_std, y_train)\n",
    "\n",
    "print(metrics.classification_report(y_test, knn.predict(X_test_std)))\n",
    "print(metrics.confusion_matrix(y_test, knn.predict(X_test_std)))"
   ]
  },
  {
   "cell_type": "markdown",
   "metadata": {},
   "source": [
    "## Random Forest"
   ]
  },
  {
   "cell_type": "code",
   "execution_count": 31,
   "metadata": {},
   "outputs": [],
   "source": [
    "import warnings\n",
    "warnings.filterwarnings('ignore')"
   ]
  },
  {
   "cell_type": "code",
   "execution_count": 32,
   "metadata": {},
   "outputs": [
    {
     "name": "stdout",
     "output_type": "stream",
     "text": [
      "oob_score(accuary): 0.9642857142857143\n",
      "             precision    recall  f1-score   support\n",
      "\n",
      "          1       1.00      1.00      1.00        11\n",
      "          2       1.00      0.78      0.88         9\n",
      "          3       0.89      1.00      0.94        16\n",
      "\n",
      "avg / total       0.95      0.94      0.94        36\n",
      "\n"
     ]
    }
   ],
   "source": [
    "from sklearn.ensemble import RandomForestClassifier\n",
    "\n",
    "rfc = RandomForestClassifier(n_estimators=500, criterion='gini', max_features='auto', oob_score=True)\n",
    "rfc.fit(X_train, y_train) #不標準化\n",
    "\n",
    "print(\"oob_score(accuary):\",rfc.oob_score_)\n",
    "print(metrics.classification_report(y_test, rfc.predict(X_test)))"
   ]
  },
  {
   "cell_type": "markdown",
   "metadata": {},
   "source": [
    "## NB"
   ]
  },
  {
   "cell_type": "code",
   "execution_count": 33,
   "metadata": {},
   "outputs": [
    {
     "name": "stdout",
     "output_type": "stream",
     "text": [
      "             precision    recall  f1-score   support\n",
      "\n",
      "          1       1.00      1.00      1.00        11\n",
      "          2       0.89      0.89      0.89         9\n",
      "          3       0.94      0.94      0.94        16\n",
      "\n",
      "avg / total       0.94      0.94      0.94        36\n",
      "\n",
      "[[11  0  0]\n",
      " [ 0  8  1]\n",
      " [ 0  1 15]]\n"
     ]
    }
   ],
   "source": [
    "from sklearn.naive_bayes import GaussianNB\n",
    "gnb = GaussianNB()\n",
    "gnb.fit(X_train_std, y_train)\n",
    "\n",
    "print(metrics.classification_report(y_test, gnb.predict(X_test_std)))\n",
    "print(metrics.confusion_matrix(y_test, gnb.predict(X_test_std)))"
   ]
  },
  {
   "cell_type": "markdown",
   "metadata": {},
   "source": [
    "## SVM"
   ]
  },
  {
   "cell_type": "code",
   "execution_count": 34,
   "metadata": {},
   "outputs": [
    {
     "name": "stdout",
     "output_type": "stream",
     "text": [
      "             precision    recall  f1-score   support\n",
      "\n",
      "          1       1.00      1.00      1.00        11\n",
      "          2       1.00      0.78      0.88         9\n",
      "          3       0.89      1.00      0.94        16\n",
      "\n",
      "avg / total       0.95      0.94      0.94        36\n",
      "\n",
      "[[11  0  0]\n",
      " [ 0  7  2]\n",
      " [ 0  0 16]]\n"
     ]
    }
   ],
   "source": [
    "from sklearn.svm import SVC\n",
    "\n",
    "svc = SVC(C=1.0, kernel=\"rbf\", probability=True)\n",
    "svc.fit(X_train_std, y_train)\n",
    "\n",
    "print(metrics.classification_report(y_test, svc.predict(X_test_std)))\n",
    "print(metrics.confusion_matrix(y_test, svc.predict(X_test_std)))"
   ]
  },
  {
   "cell_type": "markdown",
   "metadata": {},
   "source": [
    "## XGBoost"
   ]
  },
  {
   "cell_type": "code",
   "execution_count": 35,
   "metadata": {},
   "outputs": [
    {
     "name": "stdout",
     "output_type": "stream",
     "text": [
      "             precision    recall  f1-score   support\n",
      "\n",
      "          1       1.00      1.00      1.00        11\n",
      "          2       1.00      0.78      0.88         9\n",
      "          3       0.89      1.00      0.94        16\n",
      "\n",
      "avg / total       0.95      0.94      0.94        36\n",
      "\n",
      "Score: 0.9444444444444444\n"
     ]
    }
   ],
   "source": [
    "import xgboost as xgb\n",
    "\n",
    "gbm = xgb.XGBClassifier(n_estimators= 2000, max_depth= 4).fit(X_train, y_train)\n",
    "\n",
    "print(metrics.classification_report(y_test, gbm.predict(X_test)))\n",
    "print(\"Score:\", gbm.score(X_test, y_test))"
   ]
  },
  {
   "cell_type": "code",
   "execution_count": 36,
   "metadata": {},
   "outputs": [
    {
     "data": {
      "image/png": "[encoded data removed]",
      "text/plain": [
       "<matplotlib.figure.Figure at 0x1ff40ed1be0>"
      ]
     },
     "metadata": {},
     "output_type": "display_data"
    }
   ],
   "source": [
    "from xgboost import plot_importance\n",
    "plot_importance(gbm, )\n",
    "plt.show()"
   ]
  },
  {
   "cell_type": "code",
   "execution_count": 37,
   "metadata": {},
   "outputs": [],
   "source": [
    "pred = gbm.predict(test[['花瓣寬度','花瓣長度','花萼寬度','花萼長度']])"
   ]
  },
  {
   "cell_type": "code",
   "execution_count": 38,
   "metadata": {},
   "outputs": [
    {
     "data": {
      "text/plain": [
       "array([1, 1, 1, 1, 1, 1, 1, 1, 1, 1, 2, 2, 3, 2, 2, 2, 2, 2, 2, 2, 3, 3,\n",
       "       3, 3, 3, 3, 2, 3, 3, 3])"
      ]
     },
     "execution_count": 38,
     "metadata": {},
     "output_type": "execute_result"
    }
   ],
   "source": [
    "pred"
   ]
  },
  {
   "cell_type": "code",
   "execution_count": 39,
   "metadata": {},
   "outputs": [],
   "source": [
    "StackingSubmission = pd.DataFrame({ 'id': submission.id, 'type': pred })\n",
    "StackingSubmission.to_csv(\"submission.csv\", index=False)"
   ]
  },
  {
   "cell_type": "code",
   "execution_count": 40,
   "metadata": {},
   "outputs": [
    {
     "data": {
      "text/html": [
       "<div>\n",
       "<style scoped>\n",
       "    .dataframe tbody tr th:only-of-type {\n",
       "        vertical-align: middle;\n",
       "    }\n",
       "\n",
       "    .dataframe tbody tr th {\n",
       "        vertical-align: top;\n",
       "    }\n",
       "\n",
       "    .dataframe thead th {\n",
       "        text-align: right;\n",
       "    }\n",
       "</style>\n",
       "<table border=\"1\" class=\"dataframe\">\n",
       "  <thead>\n",
       "    <tr style=\"text-align: right;\">\n",
       "      <th></th>\n",
       "      <th>id</th>\n",
       "      <th>type</th>\n",
       "    </tr>\n",
       "  </thead>\n",
       "  <tbody>\n",
       "    <tr>\n",
       "      <th>0</th>\n",
       "      <td>1</td>\n",
       "      <td>1</td>\n",
       "    </tr>\n",
       "    <tr>\n",
       "      <th>1</th>\n",
       "      <td>2</td>\n",
       "      <td>1</td>\n",
       "    </tr>\n",
       "    <tr>\n",
       "      <th>2</th>\n",
       "      <td>3</td>\n",
       "      <td>1</td>\n",
       "    </tr>\n",
       "    <tr>\n",
       "      <th>3</th>\n",
       "      <td>4</td>\n",
       "      <td>1</td>\n",
       "    </tr>\n",
       "    <tr>\n",
       "      <th>4</th>\n",
       "      <td>5</td>\n",
       "      <td>1</td>\n",
       "    </tr>\n",
       "    <tr>\n",
       "      <th>5</th>\n",
       "      <td>6</td>\n",
       "      <td>1</td>\n",
       "    </tr>\n",
       "    <tr>\n",
       "      <th>6</th>\n",
       "      <td>7</td>\n",
       "      <td>1</td>\n",
       "    </tr>\n",
       "    <tr>\n",
       "      <th>7</th>\n",
       "      <td>8</td>\n",
       "      <td>1</td>\n",
       "    </tr>\n",
       "    <tr>\n",
       "      <th>8</th>\n",
       "      <td>9</td>\n",
       "      <td>1</td>\n",
       "    </tr>\n",
       "    <tr>\n",
       "      <th>9</th>\n",
       "      <td>10</td>\n",
       "      <td>1</td>\n",
       "    </tr>\n",
       "    <tr>\n",
       "      <th>10</th>\n",
       "      <td>11</td>\n",
       "      <td>2</td>\n",
       "    </tr>\n",
       "    <tr>\n",
       "      <th>11</th>\n",
       "      <td>12</td>\n",
       "      <td>2</td>\n",
       "    </tr>\n",
       "    <tr>\n",
       "      <th>12</th>\n",
       "      <td>13</td>\n",
       "      <td>3</td>\n",
       "    </tr>\n",
       "    <tr>\n",
       "      <th>13</th>\n",
       "      <td>14</td>\n",
       "      <td>2</td>\n",
       "    </tr>\n",
       "    <tr>\n",
       "      <th>14</th>\n",
       "      <td>15</td>\n",
       "      <td>2</td>\n",
       "    </tr>\n",
       "    <tr>\n",
       "      <th>15</th>\n",
       "      <td>16</td>\n",
       "      <td>2</td>\n",
       "    </tr>\n",
       "    <tr>\n",
       "      <th>16</th>\n",
       "      <td>17</td>\n",
       "      <td>2</td>\n",
       "    </tr>\n",
       "    <tr>\n",
       "      <th>17</th>\n",
       "      <td>18</td>\n",
       "      <td>2</td>\n",
       "    </tr>\n",
       "    <tr>\n",
       "      <th>18</th>\n",
       "      <td>19</td>\n",
       "      <td>2</td>\n",
       "    </tr>\n",
       "    <tr>\n",
       "      <th>19</th>\n",
       "      <td>20</td>\n",
       "      <td>2</td>\n",
       "    </tr>\n",
       "    <tr>\n",
       "      <th>20</th>\n",
       "      <td>21</td>\n",
       "      <td>3</td>\n",
       "    </tr>\n",
       "    <tr>\n",
       "      <th>21</th>\n",
       "      <td>22</td>\n",
       "      <td>3</td>\n",
       "    </tr>\n",
       "    <tr>\n",
       "      <th>22</th>\n",
       "      <td>23</td>\n",
       "      <td>3</td>\n",
       "    </tr>\n",
       "    <tr>\n",
       "      <th>23</th>\n",
       "      <td>24</td>\n",
       "      <td>3</td>\n",
       "    </tr>\n",
       "    <tr>\n",
       "      <th>24</th>\n",
       "      <td>25</td>\n",
       "      <td>3</td>\n",
       "    </tr>\n",
       "    <tr>\n",
       "      <th>25</th>\n",
       "      <td>26</td>\n",
       "      <td>3</td>\n",
       "    </tr>\n",
       "    <tr>\n",
       "      <th>26</th>\n",
       "      <td>27</td>\n",
       "      <td>2</td>\n",
       "    </tr>\n",
       "    <tr>\n",
       "      <th>27</th>\n",
       "      <td>28</td>\n",
       "      <td>3</td>\n",
       "    </tr>\n",
       "    <tr>\n",
       "      <th>28</th>\n",
       "      <td>29</td>\n",
       "      <td>3</td>\n",
       "    </tr>\n",
       "    <tr>\n",
       "      <th>29</th>\n",
       "      <td>30</td>\n",
       "      <td>3</td>\n",
       "    </tr>\n",
       "  </tbody>\n",
       "</table>\n",
       "</div>"
      ],
      "text/plain": [
       "    id  type\n",
       "0    1     1\n",
       "1    2     1\n",
       "2    3     1\n",
       "3    4     1\n",
       "4    5     1\n",
       "5    6     1\n",
       "6    7     1\n",
       "7    8     1\n",
       "8    9     1\n",
       "9   10     1\n",
       "10  11     2\n",
       "11  12     2\n",
       "12  13     3\n",
       "13  14     2\n",
       "14  15     2\n",
       "15  16     2\n",
       "16  17     2\n",
       "17  18     2\n",
       "18  19     2\n",
       "19  20     2\n",
       "20  21     3\n",
       "21  22     3\n",
       "22  23     3\n",
       "23  24     3\n",
       "24  25     3\n",
       "25  26     3\n",
       "26  27     2\n",
       "27  28     3\n",
       "28  29     3\n",
       "29  30     3"
      ]
     },
     "execution_count": 40,
     "metadata": {},
     "output_type": "execute_result"
    }
   ],
   "source": [
    "submission = pd.read_csv('submission.csv', encoding = \"utf-8\", dtype = {'type': np.int32})\n",
    "submission"
   ]
  }
 ],
 "metadata": {
  "kernelspec": {
   "display_name": "Python 3",
   "language": "python",
   "name": "python3"
  },
  "language_info": {
   "codemirror_mode": {
    "name": "ipython",
    "version": 3
   },
   "file_extension": ".py",
   "mimetype": "text/x-python",
   "name": "python",
   "nbconvert_exporter": "python",
   "pygments_lexer": "ipython3",
   "version": "3.6.4"
  }
 },
 "nbformat": 4,
 "nbformat_minor": 2
}
